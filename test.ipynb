{
 "cells": [
  {
   "cell_type": "code",
   "execution_count": 1,
   "metadata": {},
   "outputs": [],
   "source": [
    "import os\n",
    "os.environ[\"CUDA_VISIBLE_DEVICES\"] = \"2\"\n",
    "os.environ[\"XLA_PYTHON_CLIENT_MEM_FRACTION\"]=\".25\"\n",
    "import sys\n",
    "import time\n",
    "import h5py\n",
    "import numpy as np\n",
    "from pathlib import Path\n",
    "from utils import simulation2d as project\n",
    "from flowrec.data import data_partition, DataMetadata\n",
    "import flowrec.training_and_states as train\n",
    "from flowrec.training_and_states import TrainingState\n",
    "from flowrec import losses\n",
    "import flowrec.physics_and_derivatives as derivatives\n",
    "from flowrec.models.cnn import Model\n",
    "import jax \n",
    "import jax.numpy as jnp\n",
    "from jax import lax\n",
    "import optax\n",
    "from flowrec._typing import Array, Scalar\n",
    "import matplotlib.pyplot as plt\n",
    "from mpl_toolkits.axes_grid1 import ImageGrid\n",
    "from jax.tree_util import tree_map, Partial\n",
    "from utils.system import on_which_platform\n",
    "import chex\n",
    "\n",
    "train_test_split = [600,100,100]\n",
    "# train_test_split = [600,100,100]\n",
    "learning_rate = 0.0001\n",
    "mlp_layers = [] # size of the intermediate layers\n",
    "cnn_channels = [32,16,3]\n",
    "cnn_filter = [(3,3)]\n",
    "dropout_rate = 0.00\n",
    "regularisation_strength = 0.0000\n",
    "epochs = 80000\n",
    "nb_batches = 6\n",
    "re = 100\n",
    "data_dir = Path(\"./local_data/re\"+str(re))\n",
    "dt = 0.0002*625\n",
    "dx = 12/512\n",
    "dy = 4/128\n",
    "sensor_slicing_space = np.s_[::15,::10] # taking points as sensors\n",
    "weighting = [0.1,0.9] # weighting terms for [physics,sensors]\n",
    "x_base = 132\n",
    "(ux,uy,pp) = project.read_data(data_dir,x_base)\n",
    "x = np.stack([ux,uy,pp],axis=0)\n",
    "######### delete last rows\n",
    "x = x[:,:,:250,:]\n",
    "\n"
   ]
  },
  {
   "cell_type": "code",
   "execution_count": 67,
   "metadata": {},
   "outputs": [],
   "source": [
    "import wandb\n",
    "api = wandb.Api()\n",
    "runs = api.runs(\"yaxinm/FlowReconstruction\")\n",
    "\n",
    "for run in runs:\n",
    "    run.config['snr'] = 0.0\n",
    "    run.update()"
   ]
  }
 ],
 "metadata": {
  "kernelspec": {
   "display_name": "fr",
   "language": "python",
   "name": "python3"
  },
  "language_info": {
   "codemirror_mode": {
    "name": "ipython",
    "version": 3
   },
   "file_extension": ".py",
   "mimetype": "text/x-python",
   "name": "python",
   "nbconvert_exporter": "python",
   "pygments_lexer": "ipython3",
   "version": "3.11.2"
  },
  "orig_nbformat": 4
 },
 "nbformat": 4,
 "nbformat_minor": 2
}
