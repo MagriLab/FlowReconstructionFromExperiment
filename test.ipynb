{
 "cells": [
  {
   "cell_type": "code",
   "execution_count": 1,
   "metadata": {},
   "outputs": [],
   "source": [
    "import jax"
   ]
  },
  {
   "cell_type": "code",
   "execution_count": 21,
   "metadata": {},
   "outputs": [],
   "source": [
    "def myfunc(inn):\n",
    "    def fn(x):\n",
    "        print('recompile')\n",
    "        return x**2\n",
    "    return jax.jit(fn)(inn)"
   ]
  },
  {
   "cell_type": "code",
   "execution_count": 24,
   "metadata": {},
   "outputs": [
    {
     "name": "stdout",
     "output_type": "stream",
     "text": [
      "recompile\n"
     ]
    },
    {
     "data": {
      "text/plain": [
       "DeviceArray(121, dtype=int32, weak_type=True)"
      ]
     },
     "execution_count": 24,
     "metadata": {},
     "output_type": "execute_result"
    }
   ],
   "source": [
    "myfunc(11)"
   ]
  },
  {
   "cell_type": "code",
   "execution_count": 29,
   "metadata": {},
   "outputs": [],
   "source": [
    "def base_fn(a,b=1):\n",
    "    return a*b"
   ]
  },
  {
   "cell_type": "code",
   "execution_count": 30,
   "metadata": {},
   "outputs": [],
   "source": [
    "@jax.jit\n",
    "def fn(*args,**kwargs):\n",
    "    print('recompile')\n",
    "    return base_fn(*args,**kwargs)"
   ]
  },
  {
   "cell_type": "code",
   "execution_count": 32,
   "metadata": {},
   "outputs": [
    {
     "data": {
      "text/plain": [
       "DeviceArray(28, dtype=int32, weak_type=True)"
      ]
     },
     "execution_count": 32,
     "metadata": {},
     "output_type": "execute_result"
    }
   ],
   "source": [
    "fn(14,2)"
   ]
  },
  {
   "cell_type": "code",
   "execution_count": 10,
   "metadata": {},
   "outputs": [
    {
     "name": "stdout",
     "output_type": "stream",
     "text": [
      "Generator(PCG64) 1455\n",
      "[ 7 12  6 13  5 14 10  8  3  4 11  9  2  0  1]\n"
     ]
    }
   ],
   "source": [
    "import numpy as np\n",
    "randseed = np.random.randint(1,100000)\n",
    "rng = np.random.default_rng(randseed)\n",
    "print(rng,randseed)\n",
    "a = np.arange(15)\n",
    "rng.shuffle(a)\n",
    "print(a)"
   ]
  },
  {
   "cell_type": "code",
   "execution_count": 11,
   "metadata": {},
   "outputs": [
    {
     "name": "stdout",
     "output_type": "stream",
     "text": [
      "[ 7 12  6 13  5 14 10  8  3  4 11  9  2  0  1]\n"
     ]
    }
   ],
   "source": [
    "rng2 = np.random.default_rng(randseed)\n",
    "b = np.arange(15)\n",
    "rng2.shuffle(b)\n",
    "print(b)"
   ]
  },
  {
   "cell_type": "code",
   "execution_count": 37,
   "metadata": {},
   "outputs": [
    {
     "name": "stdout",
     "output_type": "stream",
     "text": [
      "/home/ym917/Codes/FlowReconstructionFromExperiment/fake_dir\n"
     ]
    }
   ],
   "source": [
    "import h5py\n",
    "from pathlib import Path\n",
    "with h5py.File(\"rename.h5\",'w') as hf:\n",
    "    hf.create_dataset(\"fake_dir\",data=Path('fake_dir/').absolute().as_posix())\n",
    "with h5py.File('rename.h5','r') as hf:\n",
    "    a = hf.get(\"fake_dir\")[()].decode()\n",
    "print(a)"
   ]
  },
  {
   "cell_type": "code",
   "execution_count": 30,
   "metadata": {},
   "outputs": [
    {
     "data": {
      "text/plain": [
       "str"
      ]
     },
     "execution_count": 30,
     "metadata": {},
     "output_type": "execute_result"
    }
   ],
   "source": [
    "type(Path('fake_dir/').absolute().as_posix())"
   ]
  },
  {
   "cell_type": "code",
   "execution_count": 38,
   "metadata": {},
   "outputs": [
    {
     "data": {
      "text/plain": [
       "PosixPath('/home/ym917/Codes/FlowReconstructionFromExperiment/fake_dir')"
      ]
     },
     "execution_count": 38,
     "metadata": {},
     "output_type": "execute_result"
    }
   ],
   "source": [
    "Path(a)"
   ]
  }
 ],
 "metadata": {
  "kernelspec": {
   "display_name": "Python 3.9.13 ('fr')",
   "language": "python",
   "name": "python3"
  },
  "language_info": {
   "codemirror_mode": {
    "name": "ipython",
    "version": 3
   },
   "file_extension": ".py",
   "mimetype": "text/x-python",
   "name": "python",
   "nbconvert_exporter": "python",
   "pygments_lexer": "ipython3",
   "version": "3.9.13"
  },
  "orig_nbformat": 4,
  "vscode": {
   "interpreter": {
    "hash": "ecb526be1feea640919cad11cc2ec9c66266d8c670c29ef193550581cd3e9bd6"
   }
  }
 },
 "nbformat": 4,
 "nbformat_minor": 2
}
