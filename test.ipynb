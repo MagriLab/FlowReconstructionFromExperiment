{
 "cells": [
  {
   "cell_type": "code",
   "execution_count": 1,
   "metadata": {},
   "outputs": [],
   "source": [
    "import os\n",
    "os.environ[\"CUDA_VISIBLE_DEVICES\"] = \"1\"\n",
    "os.environ[\"XLA_PYTHON_CLIENT_PREALLOCATE\"]='false'"
   ]
  },
  {
   "cell_type": "code",
   "execution_count": 2,
   "metadata": {},
   "outputs": [],
   "source": [
    "from pathlib import Path\n",
    "import numpy as np\n",
    "from matplotlib import pyplot as plt\n",
    "\n",
    "from flowrec.training_and_states import TrainingState\n",
    "from flowrec.data import data_partition\n",
    "import utils.simulation2d as project"
   ]
  },
  {
   "cell_type": "code",
   "execution_count": 3,
   "metadata": {},
   "outputs": [],
   "source": [
    "import jax\n",
    "import jax.numpy as jnp\n",
    "import haiku as hk"
   ]
  },
  {
   "cell_type": "code",
   "execution_count": 4,
   "metadata": {},
   "outputs": [],
   "source": [
    "w_init=hk.initializers.VarianceScaling(1.0,\"fan_avg\",\"uniform\")\n",
    "activation=jax.nn.tanh\n",
    "a = jnp.array([1.,2.]).T"
   ]
  },
  {
   "cell_type": "code",
   "execution_count": 5,
   "metadata": {},
   "outputs": [],
   "source": [
    "from flowrec.models import feedforward"
   ]
  },
  {
   "cell_type": "code",
   "execution_count": 6,
   "metadata": {},
   "outputs": [],
   "source": [
    "import optax\n",
    "optimiser = optax.adamw(0.01)"
   ]
  },
  {
   "cell_type": "code",
   "execution_count": 25,
   "metadata": {},
   "outputs": [],
   "source": [
    "rng = jax.random.PRNGKey(20)\n",
    "mlp = feedforward.Model([3,5],rng=jax.random.PRNGKey(10),activation=activation,dropout_rate=0.1)"
   ]
  },
  {
   "cell_type": "code",
   "execution_count": 26,
   "metadata": {},
   "outputs": [],
   "source": [
    "from flowrec.losses import loss_mse, mse\n",
    "a = jnp.array([1,2]).astype('float32')\n",
    "b = jnp.array([1,2,3,4,5]).astype('float32')\n",
    "params = mlp.init(a)"
   ]
  },
  {
   "cell_type": "code",
   "execution_count": 9,
   "metadata": {},
   "outputs": [],
   "source": [
    "opt_state = optimiser.init(params)\n",
    "state = TrainingState(params,opt_state)"
   ]
  },
  {
   "cell_type": "code",
   "execution_count": 10,
   "metadata": {},
   "outputs": [
    {
     "name": "stdout",
     "output_type": "stream",
     "text": [
      "11.184955\n"
     ]
    },
    {
     "ename": "TypeError",
     "evalue": "predict() takes 3 positional arguments but 4 were given",
     "output_type": "error",
     "traceback": [
      "\u001b[0;31m---------------------------------------------------------------------------\u001b[0m",
      "\u001b[0;31mTypeError\u001b[0m                                 Traceback (most recent call last)",
      "\u001b[1;32m/home/ym917/Codes/FlowReconstructionFromExperiment/test.ipynb Cell 10\u001b[0m in \u001b[0;36m<cell line: 2>\u001b[0;34m()\u001b[0m\n\u001b[1;32m      <a href='vscode-notebook-cell://ssh-remote%2Byael.ae.ic.ac.uk/home/ym917/Codes/FlowReconstructionFromExperiment/test.ipynb#Y101sdnNjb2RlLXJlbW90ZQ%3D%3D?line=0'>1</a>\u001b[0m \u001b[39mprint\u001b[39m(loss_mse(mlp\u001b[39m.\u001b[39mapply,state\u001b[39m.\u001b[39mparams,rng,a,b))\n\u001b[0;32m----> <a href='vscode-notebook-cell://ssh-remote%2Byael.ae.ic.ac.uk/home/ym917/Codes/FlowReconstructionFromExperiment/test.ipynb#Y101sdnNjb2RlLXJlbW90ZQ%3D%3D?line=1'>2</a>\u001b[0m \u001b[39mprint\u001b[39m(loss_mse(mlp\u001b[39m.\u001b[39;49mpredict,state\u001b[39m.\u001b[39;49mparams,\u001b[39mNone\u001b[39;49;00m,a,b))\n",
      "File \u001b[0;32m~/Codes/FlowReconstructionFromExperiment/flowrec/losses.py:34\u001b[0m, in \u001b[0;36mloss_mse\u001b[0;34m(apply_fn, params, rng, x, y, **kwargs)\u001b[0m\n\u001b[1;32m     15\u001b[0m \u001b[39mdef\u001b[39;00m \u001b[39mloss_mse\u001b[39m(apply_fn:Callable, \n\u001b[1;32m     16\u001b[0m             params:hk\u001b[39m.\u001b[39mParams, \n\u001b[1;32m     17\u001b[0m             rng:jax\u001b[39m.\u001b[39mrandom\u001b[39m.\u001b[39mPRNGKey, \n\u001b[1;32m     18\u001b[0m             x:Array, \n\u001b[1;32m     19\u001b[0m             y:Array,\n\u001b[1;32m     20\u001b[0m             \u001b[39m*\u001b[39m\u001b[39m*\u001b[39mkwargs) \u001b[39m-\u001b[39m\u001b[39m>\u001b[39m \u001b[39mfloat\u001b[39m:\n\u001b[1;32m     21\u001b[0m     \u001b[39m'''Mean squared error for use as loss in training.\u001b[39;00m\n\u001b[1;32m     22\u001b[0m \u001b[39m    \u001b[39;00m\n\u001b[1;32m     23\u001b[0m \u001b[39m    Arguments:\\n\u001b[39;00m\n\u001b[0;32m   (...)\u001b[0m\n\u001b[1;32m     32\u001b[0m \u001b[39m        loss: the mean squared error between y and predicted y (from x).\u001b[39;00m\n\u001b[1;32m     33\u001b[0m \u001b[39m    '''\u001b[39;00m\n\u001b[0;32m---> 34\u001b[0m     pred \u001b[39m=\u001b[39m apply_fn(params, rng, x, \u001b[39m*\u001b[39;49m\u001b[39m*\u001b[39;49mkwargs)\n\u001b[1;32m     35\u001b[0m     loss \u001b[39m=\u001b[39m mse(pred,y)\n\u001b[1;32m     36\u001b[0m     \u001b[39mreturn\u001b[39;00m loss\n",
      "\u001b[0;31mTypeError\u001b[0m: predict() takes 3 positional arguments but 4 were given"
     ]
    }
   ],
   "source": [
    "print(loss_mse(mlp.apply,state.params,rng,a,b))\n",
    "print(loss_mse(mlp.predict,state.params,None,a,b))"
   ]
  }
 ],
 "metadata": {
  "kernelspec": {
   "display_name": "Python 3.9.13 ('fr')",
   "language": "python",
   "name": "python3"
  },
  "language_info": {
   "codemirror_mode": {
    "name": "ipython",
    "version": 3
   },
   "file_extension": ".py",
   "mimetype": "text/x-python",
   "name": "python",
   "nbconvert_exporter": "python",
   "pygments_lexer": "ipython3",
   "version": "3.9.13"
  },
  "orig_nbformat": 4,
  "vscode": {
   "interpreter": {
    "hash": "ecb526be1feea640919cad11cc2ec9c66266d8c670c29ef193550581cd3e9bd6"
   }
  }
 },
 "nbformat": 4,
 "nbformat_minor": 2
}
