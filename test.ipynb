{
 "cells": [
  {
   "cell_type": "code",
   "execution_count": 1,
   "metadata": {},
   "outputs": [],
   "source": [
    "import os\n",
    "os.environ[\"CUDA_VISIBLE_DEVICES\"] = \"2\"\n",
    "os.environ[\"XLA_PYTHON_CLIENT_MEM_FRACTION\"]=\".25\"\n",
    "import sys\n",
    "import time\n",
    "import h5py\n",
    "import numpy as np\n",
    "from pathlib import Path\n",
    "from utils import simulation2d as project\n",
    "from flowrec.data import data_partition, DataMetadata\n",
    "import flowrec.training_and_states as train\n",
    "from flowrec.training_and_states import TrainingState\n",
    "from flowrec import losses\n",
    "import flowrec.physics_and_derivatives as derivatives\n",
    "from flowrec.models.cnn import Model\n",
    "import jax \n",
    "import jax.numpy as jnp\n",
    "from jax import lax\n",
    "import optax\n",
    "import matplotlib.pyplot as plt\n",
    "from mpl_toolkits.axes_grid1 import ImageGrid\n",
    "from jax.tree_util import tree_map, Partial\n",
    "from utils.system import on_which_platform\n",
    "import chex\n",
    "\n",
    "train_test_split = [50,100,100]\n",
    "# train_test_split = [600,100,100]\n",
    "learning_rate = 0.0001\n",
    "mlp_layers = [] # size of the intermediate layers\n",
    "cnn_channels = [32,16,3]\n",
    "cnn_filter = [(3,3)]\n",
    "dropout_rate = 0.00\n",
    "regularisation_strength = 0.0000\n",
    "epochs = 80000\n",
    "nb_batches = 6\n",
    "re = 100\n",
    "data_dir = Path(\"./local_data/re\"+str(re))\n",
    "dt = 0.0002*625\n",
    "dx = 12/512\n",
    "dy = 4/128\n",
    "sensor_slicing_space = np.s_[::15,::10] # taking points as sensors\n",
    "weighting = [0.1,0.9] # weighting terms for [physics,sensors]\n",
    "x_base = 132\n",
    "(ux,uy,pp) = project.read_data(data_dir,x_base)\n",
    "x = np.stack([ux,uy,pp],axis=0)\n",
    "######### delete last rows\n",
    "x = x[:,:,:250,:]\n",
    "\n",
    "data_randseed = np.random.randint(1,1000000)\n",
    "[x_train,x_val,x_test], _ = data_partition(x,1,train_test_split,REMOVE_MEAN=False,randseed=data_randseed,SHUFFLE=False) # Do not shuffle, do not remove mean for training with physics informed loss\n",
    "\n",
    "\n",
    "[ux_train,uy_train,pp_train] = np.squeeze(np.split(x_train,3,axis=0))\n",
    "[ux_val,uy_val,pp_val] = np.squeeze(np.split(x_val,3,axis=0))\n",
    "[ux_test,uy_test,pp_test] = np.squeeze(np.split(x_test,3,axis=0))\n",
    "\n",
    "triangle_base_coords = [49,80]\n",
    "pb_train = project.take_measurement_base(pp_train,ly=triangle_base_coords,centrex=0)\n",
    "pb_val = project.take_measurement_base(pp_val,ly=triangle_base_coords,centrex=0)\n",
    "pb_test = project.take_measurement_base(pp_test,ly=triangle_base_coords,centrex=0)\n",
    "\n",
    "(nt,nx,ny) = ux_train.shape\n",
    "n_base = pb_train.shape[-1]\n",
    "\n",
    "# information about the grid\n",
    "datainfo = DataMetadata(\n",
    "    re = re,\n",
    "    discretisation=[dt,dx,dy],\n",
    "    axis_index=[0,1,2],\n",
    "    problem_2d=True\n",
    ").to_named_tuple()\n",
    "\n",
    "mlp_layers.extend([3*nx*ny])\n",
    "\n",
    "pb_train = np.reshape(pb_train,(train_test_split[0],-1))\n",
    "pb_val = np.reshape(pb_val,(train_test_split[1],-1))\n",
    "\n",
    "\n",
    "u_train = np.stack((ux_train,uy_train,pp_train),axis=-1)\n",
    "u_val = np.stack((ux_val,uy_val,pp_val),axis=-1)\n",
    "\n",
    "# take sensor measurement\n",
    "sensor_slicing = (np.s_[:],) + sensor_slicing_space\n",
    "\n",
    "observed_train = u_train[sensor_slicing]\n",
    "observed_val = u_val[sensor_slicing]\n",
    "\n",
    "rng = jax.random.PRNGKey(np.random.randint(10,50))\n",
    "optimizer = optax.adamw(learning_rate=learning_rate,weight_decay=regularisation_strength)\n",
    "\n",
    "mdl = Model(mlp_layers,output_shape=(nx,ny,3),cnn_channels=cnn_channels,cnn_filters=cnn_filter,dropout_rate=dropout_rate)"
   ]
  },
  {
   "cell_type": "code",
   "execution_count": 2,
   "metadata": {},
   "outputs": [
    {
     "data": {
      "text/plain": [
       "_Metadata2d(re=100, discretisation=[0.125, 0.0234375, 0.03125], axis_index=[0, 1, 2], axt=0, axx=1, axy=2, dt=0.125, dx=0.0234375, dy=0.03125)"
      ]
     },
     "execution_count": 2,
     "metadata": {},
     "output_type": "execute_result"
    }
   ],
   "source": [
    "datainfo"
   ]
  },
  {
   "cell_type": "code",
   "execution_count": 3,
   "metadata": {},
   "outputs": [],
   "source": [
    "# import logging\n",
    "# logging.getLogger('fr.flowrec.training_and_states').setLevel(logging.DEBUG)"
   ]
  },
  {
   "cell_type": "code",
   "execution_count": 4,
   "metadata": {},
   "outputs": [],
   "source": [
    "params = mdl.init(rng,pb_train[0,:]) # initalise weights\n",
    "opt_state = optimizer.init(params)\n",
    "state = TrainingState(params, opt_state)"
   ]
  },
  {
   "cell_type": "code",
   "execution_count": 5,
   "metadata": {},
   "outputs": [],
   "source": [
    "# @jax.jit\n",
    "def loss_fn_ref(apply_fn,params,rng,x,y,w=[0.5,0.5],**kwargs):\n",
    "    pred = apply_fn(params, rng, x, **kwargs)\n",
    "    loss_sensor = losses.mse(pred[sensor_slicing], y)\n",
    "    \n",
    "    pred = pred.at[sensor_slicing].set(y)\n",
    "    loss_div = losses.divergence(pred[...,0], pred[...,1], datainfo)\n",
    "    loss_mom_x = jnp.mean(derivatives.momentum_residue_field(\n",
    "                            1,\n",
    "                            ux=pred[...,0],\n",
    "                            uy=pred[...,1],\n",
    "                            p=pred[...,2],\n",
    "                            datainfo=datainfo)**2\n",
    "                            )\n",
    "    loss_mom_y = jnp.mean(derivatives.momentum_residue_field(\n",
    "                            2,\n",
    "                            ux=pred[...,0],\n",
    "                            uy=pred[...,1],\n",
    "                            p=pred[...,2],\n",
    "                            datainfo=datainfo)**2\n",
    "                            )\n",
    "    # return w[0]*(loss_div + loss_mom_x + loss_mom_y)+w[1]*loss_sensor, (loss_div,loss_mom_x+loss_mom_y,loss_sensor)\n",
    "    return loss_div+loss_mom_x+loss_mom_y"
   ]
  },
  {
   "cell_type": "code",
   "execution_count": 6,
   "metadata": {},
   "outputs": [],
   "source": [
    "update_ref = train.generate_update_fn(mdl.apply,optimizer,loss_fn_ref,kwargs_loss={'w':weighting}) # this update weights once."
   ]
  },
  {
   "cell_type": "code",
   "execution_count": 28,
   "metadata": {},
   "outputs": [
    {
     "name": "stdout",
     "output_type": "stream",
     "text": [
      "CPU times: user 3.86 ms, sys: 3.58 ms, total: 7.44 ms\n",
      "Wall time: 4.65 ms\n"
     ]
    }
   ],
   "source": [
    "\n",
    "%time _  = update_ref(state,rng,pb_train,observed_train)"
   ]
  },
  {
   "cell_type": "code",
   "execution_count": 8,
   "metadata": {},
   "outputs": [
    {
     "name": "stdout",
     "output_type": "stream",
     "text": [
      "gpu\n"
     ]
    }
   ],
   "source": [
    "on_which_platform()"
   ]
  },
  {
   "cell_type": "code",
   "execution_count": 9,
   "metadata": {},
   "outputs": [],
   "source": [
    "def momentum_residue_field(\n",
    "    ux,\n",
    "    uy,\n",
    "    p,\n",
    "    datainfo=None,\n",
    "    uz = None,\n",
    "    **kwargs):\n",
    "    \n",
    "    try:\n",
    "        chex.assert_equal_shape([ux,uy,p])\n",
    "        u = jnp.stack((ux,uy),axis=0)\n",
    "        if uz is not None:\n",
    "            chex.assert_equal_shape([ux,uz])\n",
    "            u = jnp.concatenate((u,uz[jnp.newaxis,...]),axis=0)\n",
    "    except AssertionError as err:\n",
    "        raise err\n",
    "    try:\n",
    "        chex.assert_rank(u,[2+u.shape[0]])\n",
    "    except AssertionError as err:\n",
    "        raise err\n",
    "\n",
    "    step_space = datainfo.discretisation[1:]\n",
    "    axis_space = datainfo.axis_index[1:]\n",
    "\n",
    "    ## Define internal functions\n",
    "    v_derivative1 = jax.vmap(derivatives.derivative1,(0,None,None),0)\n",
    "    v_derivative2 = jax.vmap(derivatives.derivative2,(0,None,None),0)\n",
    "    \n",
    "    def _didj(de_fun,inn):\n",
    "        didj_T = de_fun(inn,datainfo.dx,datainfo.axx).reshape((-1,)+inn.shape)\n",
    "        for i in range (1,u.shape[0]):\n",
    "            didj_T = jnp.concatenate(\n",
    "                (\n",
    "                didj_T,\n",
    "                de_fun(inn,step_space[i],axis_space[i]).reshape((-1,)+inn.shape)\n",
    "                ),\n",
    "                axis=0\n",
    "            )\n",
    "        return didj_T # [j,i,t,x,y,z]\n",
    "    \n",
    "    ## calculate derivatives\n",
    "    dui_dt = v_derivative1(u,datainfo.dt,datainfo.axt) # [i,t,x,y,z]\n",
    "\n",
    "    # # output convection terms\n",
    "    # (u*du/dx + v*du/dy,\n",
    "    #  u*dv/dx + v*dv/dy)\n",
    "    dui_dxj_T = _didj(v_derivative1,u)\n",
    "    ududx_i = jnp.einsum('j..., ji... -> i...', u, dui_dxj_T) # [i,t,x,y,z]\n",
    "\n",
    "    dpdx_i = _didj(derivatives.derivative1,pp_train) #[i,t,x,y,z]\n",
    "\n",
    "    # # output second derivatives\n",
    "    # ((d2u/dx2, d2u/dy2),\n",
    "    #  (d2v/dx2, d2v/dy2))\n",
    "    d2ui_dxj2 = _didj(v_derivative2,u)\n",
    "    d2udx2_i = jnp.einsum('ji... - > i...', d2ui_dxj2) # [i,t,x,y,z]\n",
    "\n",
    "\n",
    "    residue = dui_dt + ududx_i + dpdx_i - (d2udx2_i/datainfo.re)\n",
    "\n",
    "    return residue\n"
   ]
  },
  {
   "cell_type": "code",
   "execution_count": 10,
   "metadata": {},
   "outputs": [
    {
     "name": "stdout",
     "output_type": "stream",
     "text": [
      "32.2 ms ± 843 µs per loop (mean ± std. dev. of 7 runs, 1 loop each)\n"
     ]
    }
   ],
   "source": [
    "%%timeit\n",
    "_ = momentum_residue_field(ux_train,uy_train,pp_train,datainfo)"
   ]
  },
  {
   "cell_type": "code",
   "execution_count": 11,
   "metadata": {},
   "outputs": [],
   "source": [
    "fun_partial = Partial(momentum_residue_field,datainfo=datainfo)\n",
    "fun = jax.jit(fun_partial)"
   ]
  },
  {
   "cell_type": "code",
   "execution_count": 12,
   "metadata": {},
   "outputs": [
    {
     "name": "stdout",
     "output_type": "stream",
     "text": [
      "4.59 ms ± 138 µs per loop (mean ± std. dev. of 7 runs, 1 loop each)\n"
     ]
    }
   ],
   "source": [
    "%%timeit\n",
    "_ = fun(ux=ux_train,uy=uy_train,p=pp_train).block_until_ready()"
   ]
  },
  {
   "cell_type": "code",
   "execution_count": 13,
   "metadata": {},
   "outputs": [],
   "source": [
    "mom = fun(ux=ux_train,uy=uy_train,p=pp_train).block_until_ready()\n"
   ]
  },
  {
   "cell_type": "code",
   "execution_count": 14,
   "metadata": {},
   "outputs": [],
   "source": [
    "# @jax.jit\n",
    "def loss_fn(apply_fn,params,rng,x,y,w=[0.5,0.5],**kwargs):\n",
    "    pred = apply_fn(params, rng, x, **kwargs)\n",
    "    loss_sensor = losses.mse(pred[sensor_slicing], y)\n",
    "    \n",
    "    pred = pred.at[sensor_slicing].set(y)\n",
    "    loss_div = losses.divergence(pred[...,0], pred[...,1], datainfo)\n",
    "    loss_mom_x = jnp.mean(fun_partial(\n",
    "                            ux=pred[...,0],\n",
    "                            uy=pred[...,1],\n",
    "                            p=pred[...,2])**2\n",
    "                            )\n",
    "    loss_mom_y = jnp.mean(fun_partial(\n",
    "                            ux=pred[...,0],\n",
    "                            uy=pred[...,1],\n",
    "                            p=pred[...,2])**2\n",
    "                            )\n",
    "    # return w[0]*(loss_div + loss_mom_x + loss_mom_y)+w[1]*loss_sensor, (loss_div,loss_mom_x+loss_mom_y,loss_sensor)\n",
    "    return loss_div+loss_mom_x+loss_mom_y"
   ]
  },
  {
   "cell_type": "code",
   "execution_count": 15,
   "metadata": {},
   "outputs": [],
   "source": [
    "update = train.generate_update_fn(mdl.apply,optimizer,loss_fn,kwargs_loss={'w':weighting}) # this update weights once."
   ]
  },
  {
   "cell_type": "code",
   "execution_count": 37,
   "metadata": {},
   "outputs": [
    {
     "name": "stdout",
     "output_type": "stream",
     "text": [
      "CPU times: user 3.74 ms, sys: 2.69 ms, total: 6.44 ms\n",
      "Wall time: 3.56 ms\n"
     ]
    }
   ],
   "source": [
    "\n",
    "%time _=update(state,rng,pb_train,observed_train)"
   ]
  },
  {
   "cell_type": "code",
   "execution_count": 17,
   "metadata": {},
   "outputs": [
    {
     "data": {
      "image/png": "[encoded data removed]",
      "text/plain": [
       "<Figure size 432x288 with 2 Axes>"
      ]
     },
     "metadata": {
      "needs_background": "light"
     },
     "output_type": "display_data"
    }
   ],
   "source": [
    "plt.figure()\n",
    "plt.imshow(mom[0,10,...],'jet')\n",
    "plt.colorbar()\n",
    "plt.show()"
   ]
  },
  {
   "cell_type": "code",
   "execution_count": 18,
   "metadata": {},
   "outputs": [
    {
     "data": {
      "image/png": "[encoded data removed]",
      "text/plain": [
       "<Figure size 432x288 with 2 Axes>"
      ]
     },
     "metadata": {
      "needs_background": "light"
     },
     "output_type": "display_data"
    }
   ],
   "source": [
    "mom_ref = derivatives.momentum_residue_field(1,ux_train,uy_train,pp_train,datainfo)\n",
    "plt.figure()\n",
    "plt.imshow(mom_ref[10,...],'jet')\n",
    "plt.colorbar()\n",
    "plt.show()"
   ]
  }
 ],
 "metadata": {
  "kernelspec": {
   "display_name": "fr",
   "language": "python",
   "name": "python3"
  },
  "language_info": {
   "codemirror_mode": {
    "name": "ipython",
    "version": 3
   },
   "file_extension": ".py",
   "mimetype": "text/x-python",
   "name": "python",
   "nbconvert_exporter": "python",
   "pygments_lexer": "ipython3",
   "version": "3.9.13"
  },
  "orig_nbformat": 4
 },
 "nbformat": 4,
 "nbformat_minor": 2
}
