{
 "cells": [
  {
   "cell_type": "code",
   "execution_count": 1,
   "metadata": {},
   "outputs": [],
   "source": [
    "import os\n",
    "os.environ[\"CUDA_VISIBLE_DEVICES\"] = \"1\""
   ]
  },
  {
   "cell_type": "code",
   "execution_count": 2,
   "metadata": {},
   "outputs": [],
   "source": [
    "import h5py\n",
    "import numpy as np\n",
    "from matplotlib import pyplot as plt\n",
    "\n",
    "from utils.training_state import TrainingState\n",
    "from models.data import data_partition"
   ]
  },
  {
   "cell_type": "markdown",
   "metadata": {},
   "source": [
    "# Read data"
   ]
  },
  {
   "cell_type": "code",
   "execution_count": 118,
   "metadata": {},
   "outputs": [],
   "source": [
    "with h5py.File(\"local_data/re100/ux.h5\",'r') as hf:\n",
    "    ux = np.array(hf.get(\"ux\"))\n",
    "with h5py.File(\"local_data/re100/uy.h5\",'r') as hf:\n",
    "    uy = np.array(hf.get(\"uy\"))\n",
    "with h5py.File(\"local_data/re100/pp.h5\",'r') as hf:\n",
    "    pp = np.array(hf.get(\"pp\"))"
   ]
  },
  {
   "cell_type": "code",
   "execution_count": 22,
   "metadata": {},
   "outputs": [
    {
     "data": {
      "text/plain": [
       "DeviceArray([ 913281243, 1281629655], dtype=uint32)"
      ]
     },
     "execution_count": 22,
     "metadata": {},
     "output_type": "execute_result"
    }
   ],
   "source": [
    "import jax\n",
    "key1 = jax.random.PRNGKey(10)\n",
    "[key3] = jax.random.split(key2,1)\n",
    "key3"
   ]
  },
  {
   "cell_type": "code",
   "execution_count": 23,
   "metadata": {},
   "outputs": [
    {
     "name": "stdout",
     "output_type": "stream",
     "text": [
      "[[0 1]\n",
      " [2 3]\n",
      " [4 5]\n",
      " [6 7]\n",
      " [8 9]]\n",
      "[[4 5]\n",
      " [0 1]\n",
      " [8 9]\n",
      " [6 7]\n",
      " [2 3]]\n",
      "[[2 3]\n",
      " [6 7]\n",
      " [8 9]\n",
      " [4 5]\n",
      " [0 1]]\n"
     ]
    }
   ],
   "source": [
    "import jax.numpy as jnp\n",
    "\n",
    "a = jnp.array(jnp.arange(10).reshape((5,2)))\n",
    "b = jax.random.permutation(key1,a,axis=0,independent=False)\n",
    "print(a)\n",
    "print(b)\n",
    "c = jax.random.permutation(key3,a,axis=0,independent=False)\n",
    "print(c)"
   ]
  }
 ],
 "metadata": {
  "kernelspec": {
   "display_name": "Python 3.9.13 ('fr')",
   "language": "python",
   "name": "python3"
  },
  "language_info": {
   "codemirror_mode": {
    "name": "ipython",
    "version": 3
   },
   "file_extension": ".py",
   "mimetype": "text/x-python",
   "name": "python",
   "nbconvert_exporter": "python",
   "pygments_lexer": "ipython3",
   "version": "3.9.13"
  },
  "orig_nbformat": 4,
  "vscode": {
   "interpreter": {
    "hash": "ecb526be1feea640919cad11cc2ec9c66266d8c670c29ef193550581cd3e9bd6"
   }
  }
 },
 "nbformat": 4,
 "nbformat_minor": 2
}
