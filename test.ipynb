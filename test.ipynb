{
 "cells": [
  {
   "cell_type": "code",
   "execution_count": 1,
   "metadata": {},
   "outputs": [],
   "source": [
    "import os\n",
    "os.environ[\"CUDA_VISIBLE_DEVICES\"] = \"1\""
   ]
  },
  {
   "cell_type": "code",
   "execution_count": 2,
   "metadata": {},
   "outputs": [],
   "source": [
    "import h5py\n",
    "import numpy as np\n",
    "from matplotlib import pyplot as plt\n",
    "\n",
    "from utils.training_state import TrainingState\n",
    "from models.data import data_partition"
   ]
  },
  {
   "cell_type": "markdown",
   "metadata": {},
   "source": [
    "# Read data"
   ]
  },
  {
   "cell_type": "code",
   "execution_count": 118,
   "metadata": {},
   "outputs": [],
   "source": [
    "with h5py.File(\"local_data/re100/ux.h5\",'r') as hf:\n",
    "    ux = np.array(hf.get(\"ux\"))\n",
    "with h5py.File(\"local_data/re100/uy.h5\",'r') as hf:\n",
    "    uy = np.array(hf.get(\"uy\"))\n",
    "with h5py.File(\"local_data/re100/pp.h5\",'r') as hf:\n",
    "    pp = np.array(hf.get(\"pp\"))"
   ]
  },
  {
   "cell_type": "code",
   "execution_count": 1,
   "metadata": {},
   "outputs": [
    {
     "name": "stderr",
     "output_type": "stream",
     "text": [
      "WARNING:jax._src.lib.xla_bridge:No GPU/TPU found, falling back to CPU. (Set TF_CPP_MIN_LOG_LEVEL=0 and rerun for more info.)\n"
     ]
    }
   ],
   "source": [
    "from models.losses import mse\n",
    "import jax.numpy as jnp\n",
    "\n",
    "a = jnp.array([1,2,3])\n",
    "b = jnp.array([1,2,3,4])\n",
    "mse(None,None)"
   ]
  }
 ],
 "metadata": {
  "kernelspec": {
   "display_name": "Python 3.9.13 ('fr')",
   "language": "python",
   "name": "python3"
  },
  "language_info": {
   "codemirror_mode": {
    "name": "ipython",
    "version": 3
   },
   "file_extension": ".py",
   "mimetype": "text/x-python",
   "name": "python",
   "nbconvert_exporter": "python",
   "pygments_lexer": "ipython3",
   "version": "3.9.13"
  },
  "orig_nbformat": 4,
  "vscode": {
   "interpreter": {
    "hash": "d0c4f52e826ba972db993c88e86bb40a803fc6f9fbf0ce58ed5ef88c4855dac4"
   }
  }
 },
 "nbformat": 4,
 "nbformat_minor": 2
}
