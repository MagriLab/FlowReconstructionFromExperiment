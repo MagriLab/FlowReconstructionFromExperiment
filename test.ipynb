{
 "cells": [
  {
   "cell_type": "code",
   "execution_count": 46,
   "metadata": {},
   "outputs": [],
   "source": [
    "import os\n",
    "os.environ[\"CUDA_VISIBLE_DEVICES\"] = \"2\"\n",
    "os.environ[\"XLA_PYTHON_CLIENT_MEM_FRACTION\"]=\".25\"\n",
    "import sys\n",
    "import time\n",
    "import h5py\n",
    "import numpy as np\n",
    "from pathlib import Path\n",
    "from utils import simulation2d as project\n",
    "from flowrec.data import data_partition, DataMetadata\n",
    "import flowrec.training_and_states as train\n",
    "from flowrec.training_and_states import TrainingState\n",
    "from flowrec import losses\n",
    "import flowrec.physics_and_derivatives as derivatives\n",
    "from flowrec.models.cnn import Model\n",
    "import jax \n",
    "import jax.numpy as jnp\n",
    "from jax import lax\n",
    "import optax\n",
    "from flowrec._typing import Array, Scalar\n",
    "import matplotlib.pyplot as plt\n",
    "from mpl_toolkits.axes_grid1 import ImageGrid\n",
    "from jax.tree_util import tree_map, Partial\n",
    "from utils.system import on_which_platform\n",
    "import chex\n",
    "\n",
    "train_test_split = [600,100,100]\n",
    "# train_test_split = [600,100,100]\n",
    "learning_rate = 0.0001\n",
    "mlp_layers = [] # size of the intermediate layers\n",
    "cnn_channels = [32,16,3]\n",
    "cnn_filter = [(3,3)]\n",
    "dropout_rate = 0.00\n",
    "regularisation_strength = 0.0000\n",
    "epochs = 80000\n",
    "nb_batches = 6\n",
    "re = 100\n",
    "data_dir = Path(\"./local_data/re\"+str(re))\n",
    "dt = 0.0002*625\n",
    "dx = 12/512\n",
    "dy = 4/128\n",
    "sensor_slicing_space = np.s_[::15,::10] # taking points as sensors\n",
    "weighting = [0.1,0.9] # weighting terms for [physics,sensors]\n",
    "x_base = 132\n",
    "(ux,uy,pp) = project.read_data(data_dir,x_base)\n",
    "x = np.stack([ux,uy,pp],axis=0)\n",
    "######### delete last rows\n",
    "x = x[:,:,:250,:]\n",
    "\n",
    "data_randseed = np.random.randint(1,1000000)\n",
    "[x_train,x_val,x_test], _ = data_partition(x,1,train_test_split,REMOVE_MEAN=False,randseed=data_randseed,SHUFFLE=False) # Do not shuffle, do not remove mean for training with physics informed loss\n",
    "\n",
    "\n",
    "[ux_train,uy_train,pp_train] = np.squeeze(np.split(x_train,3,axis=0))\n",
    "[ux_val,uy_val,pp_val] = np.squeeze(np.split(x_val,3,axis=0))\n",
    "[ux_test,uy_test,pp_test] = np.squeeze(np.split(x_test,3,axis=0))\n",
    "\n",
    "triangle_base_coords = [49,80]\n",
    "pb_train = project.take_measurement_base(pp_train,ly=triangle_base_coords,centrex=0)\n",
    "pb_val = project.take_measurement_base(pp_val,ly=triangle_base_coords,centrex=0)\n",
    "pb_test = project.take_measurement_base(pp_test,ly=triangle_base_coords,centrex=0)\n",
    "\n",
    "(nt,nx,ny) = ux_train.shape\n",
    "n_base = pb_train.shape[-1]\n",
    "\n",
    "# information about the grid\n",
    "datainfo = DataMetadata(\n",
    "    re = re,\n",
    "    discretisation=[dt,dx,dy],\n",
    "    axis_index=[0,1,2],\n",
    "    problem_2d=True\n",
    ").to_named_tuple()\n",
    "\n",
    "mlp_layers.extend([3*nx*ny])\n",
    "\n",
    "pb_train = np.reshape(pb_train,(train_test_split[0],-1))\n",
    "pb_val = np.reshape(pb_val,(train_test_split[1],-1))\n",
    "\n",
    "\n",
    "u_train = np.stack((ux_train,uy_train,pp_train),axis=-1)\n",
    "u_val = np.stack((ux_val,uy_val,pp_val),axis=-1)\n",
    "\n",
    "# take sensor measurement\n",
    "sensor_slicing = (np.s_[:],) + sensor_slicing_space\n",
    "\n",
    "observed_train = u_train[sensor_slicing]\n",
    "observed_val = u_val[sensor_slicing]\n",
    "\n",
    "rng = jax.random.PRNGKey(np.random.randint(10,50))\n",
    "optimizer = optax.adamw(learning_rate=learning_rate,weight_decay=regularisation_strength)\n",
    "\n",
    "mdl = Model(mlp_layers,output_shape=(nx,ny,3),cnn_channels=cnn_channels,cnn_filters=cnn_filter,dropout_rate=dropout_rate)"
   ]
  },
  {
   "cell_type": "code",
   "execution_count": 2,
   "metadata": {},
   "outputs": [
    {
     "data": {
      "text/plain": [
       "[StreamExecutorGpuDevice(id=0, process_index=0, slice_index=0)]"
      ]
     },
     "execution_count": 2,
     "metadata": {},
     "output_type": "execute_result"
    }
   ],
   "source": [
    "jax.devices()"
   ]
  },
  {
   "cell_type": "code",
   "execution_count": 3,
   "metadata": {},
   "outputs": [
    {
     "name": "stdout",
     "output_type": "stream",
     "text": [
      "gpu\n"
     ]
    }
   ],
   "source": [
    "on_which_platform()"
   ]
  },
  {
   "cell_type": "code",
   "execution_count": 4,
   "metadata": {},
   "outputs": [],
   "source": [
    "\n",
    "@jax.tree_util.Partial(jax.jit,static_argnames=('axis'))\n",
    "def derivative2(f:Array, h:Scalar, axis:int=0) -> Array:\n",
    "    '''Second derivatives with second order central difference for interior points and second order forward/backward difference for boundaries.\\n\n",
    "    \n",
    "    Arguments:\\n\n",
    "        f: array of values to differentiate.\\n\n",
    "        h: step size, only constant step is supported.\\n\n",
    "        axis: int. Which axis to take derivative.\\n\n",
    "    \n",
    "    Returns:\n",
    "        d2fdx2: array of second derivatives with the same shape as f.\n",
    "    '''\n",
    "\n",
    "    f = jnp.asarray(f)\n",
    "\n",
    "    # try:\n",
    "    #     chex.assert_axis_dimension_gteq(f,axis,4) # \n",
    "    # except AssertionError as err:\n",
    "    #     logger.error('Not enough nodes in the selected axis for the numerical scheme used.')\n",
    "    #     raise err\n",
    "\n",
    "    \n",
    "    # initialise empty array for output\n",
    "    d2fdx2 = jnp.empty_like(f)\n",
    "    \n",
    "    # for slicing the input later\n",
    "    slice1 = [slice(None)]*f.ndim\n",
    "    slice2 = [slice(None)]*f.ndim\n",
    "    slice3 = [slice(None)]*f.ndim\n",
    "    slice4 = [slice(None)]*f.ndim\n",
    "\n",
    "    # interior points\n",
    "    # second order scheme used f(x+h), f(x) and f(x-h)\n",
    "    # = (f(x+h) - 2f(x) + f(x-h)) / (h**2)\n",
    "    slice1[axis] = slice(2,None)\n",
    "    slice2[axis] = slice(1,-1)\n",
    "    slice3[axis] = slice(None,-2)\n",
    "\n",
    "    interior = (f[tuple(slice1)] - 2*f[tuple(slice2)] + f[tuple(slice3)]) / (h**2)\n",
    "\n",
    "    # left boundary (x=0)\n",
    "    # second order forward difference\n",
    "    # = (2f(x) - 5f(x+h) + 4f(x+2h) - f(x+3h)) / (h**2)\n",
    "    slice1[axis] = slice(0,1)\n",
    "    slice2[axis] = slice(1,2)\n",
    "    slice3[axis] = slice(2,3)\n",
    "    slice4[axis] = slice(3,4)\n",
    "\n",
    "    # d2fdx2 = d2fdx2.at[tuple(slice1)].set((2*f[tuple(slice1)] - 5*f[tuple(slice2)] + 4*f[tuple(slice3)] - f[tuple(slice4)]) / (h**2)) \n",
    "    left = (2*f[tuple(slice1)] - 5*f[tuple(slice2)] + 4*f[tuple(slice3)] - f[tuple(slice4)]) / (h**2)\n",
    "\n",
    "    # right boundary (x=L)\n",
    "    # second order backward difference\n",
    "    # = (2f(x) - 5f(x-h) + 4f(x-2h) - f(x-3h)) / (h**2)\n",
    "    slice1[axis] = slice(-1,None)\n",
    "    slice2[axis] = slice(-2,-1)\n",
    "    slice3[axis] = slice(-3,-2)\n",
    "    slice4[axis] = slice(-4,-3)\n",
    "\n",
    "    # d2fdx2 = d2fdx2.at[tuple(slice1)].set((2*f[tuple(slice1)] - 5*f[tuple(slice2)] + 4*f[tuple(slice3)] - f[tuple(slice4)]) / (h**2)) \n",
    "    right = (2*f[tuple(slice1)] - 5*f[tuple(slice2)] + 4*f[tuple(slice3)] - f[tuple(slice4)]) / (h**2)\n",
    "\n",
    "    # return d2fdx2\n",
    "\n",
    "    return jnp.concatenate((left,interior,right),axis=axis)\n"
   ]
  },
  {
   "cell_type": "code",
   "execution_count": 5,
   "metadata": {},
   "outputs": [],
   "source": [
    "\n",
    "def momentum_residue_field(\n",
    "    ux:Array,\n",
    "    uy:Array,\n",
    "    p:Array,\n",
    "    datainfo,\n",
    "    uz = None,\n",
    "    **kwargs) -> Array:\n",
    "    \n",
    "    '''Calculate the momentum residue of the nondimensional Navier Stokes equation for selected velocity.\n",
    "    Either 2D or 3D.\\n\n",
    "    \n",
    "    Arguments:\\n\n",
    "        ux: array of velocity in x direction.\\n\n",
    "        uy: array of velocity in y direction.\\n\n",
    "        p: array of pressure.\\n\n",
    "        datainfo: an instance of DataMetadata.\\n\n",
    "        uz: array of velocity in z direction.\\n\n",
    "\n",
    "    return:\\n\n",
    "        Momentum residue field, has shape [i,...], where i is the number of velocity and ... is the shape of the input velocity field (e.g. ux.shape).\n",
    "    # '''\n",
    "\n",
    "    try:\n",
    "        chex.assert_equal_shape([ux,uy,p])\n",
    "        u = jnp.stack((ux,uy),axis=0)\n",
    "        if uz is not None:\n",
    "            chex.assert_equal_shape([ux,uz])\n",
    "            u = jnp.concatenate((u,uz[jnp.newaxis,...]),axis=0)\n",
    "    except AssertionError as err:\n",
    "        # logger.error('Cannot calculate momentum residue, input shape mismatch.')\n",
    "        raise err\n",
    "    # try:\n",
    "    #     chex.assert_rank(u,[2+u.shape[0]])\n",
    "    # except AssertionError as err:\n",
    "    #     logger.error(f'Cannot calculate momentum, number of velocities does not match the number of dimensions.')\n",
    "    #     raise err\n",
    "\n",
    "    \n",
    "    step_space = datainfo.discretisation[1:]\n",
    "    axis_space = datainfo.axis_index[1:]\n",
    "    \n",
    "\n",
    "    ## Define internal functions\n",
    "    v_derivative1 = jax.vmap(derivatives.derivative1,(0,None,None),0)\n",
    "    v_derivative2 = jax.vmap(derivative2,(0,None,None),0)\n",
    "    \n",
    "    # function that applies a function to inn, and x,y,z in order\n",
    "    def _didj(de_fun,inn):\n",
    "        didj_T = de_fun(inn,datainfo.dx,datainfo.axx).reshape((-1,)+inn.shape)\n",
    "        for i in range (1,u.shape[0]):\n",
    "            didj_T = jnp.concatenate(\n",
    "                (\n",
    "                didj_T,\n",
    "                de_fun(inn,step_space[i],axis_space[i]).reshape((-1,)+inn.shape)\n",
    "                ),\n",
    "                axis=0\n",
    "            )\n",
    "        return didj_T # for de_fun = v_derivative1 and inn=u -> [j,i,t,x,y,z]\n",
    "    \n",
    "\n",
    "    ## calculate derivatives\n",
    "    dui_dt = v_derivative1(u,datainfo.dt,datainfo.axt) # [i,t,x,y,z]\n",
    "\n",
    "    # # output convection terms\n",
    "    # (u*du/dx + v*du/dy,\n",
    "    #  u*dv/dx + v*dv/dy)\n",
    "    dui_dxj_T = _didj(v_derivative1,u)\n",
    "    ududx_i = jnp.einsum('j..., ji... -> i...', u, dui_dxj_T) # [i,t,x,y,z]\n",
    "\n",
    "    dpdx_i = _didj(derivatives.derivative1,p) #[i,t,x,y,z]\n",
    "\n",
    "    # # output second derivatives\n",
    "    # ((d2u/dx2, d2u/dy2),\n",
    "    #  (d2v/dx2, d2v/dy2))\n",
    "    d2ui_dxj2 = _didj(v_derivative2,u)\n",
    "    d2udx2_i = jnp.einsum('ji... - > i...', d2ui_dxj2) # [i,t,x,y,z]\n",
    "\n",
    "    residue = dui_dt + ududx_i + dpdx_i - (d2udx2_i/datainfo.re)\n",
    "    \n",
    "    return residue"
   ]
  },
  {
   "cell_type": "code",
   "execution_count": 6,
   "metadata": {},
   "outputs": [
    {
     "name": "stdout",
     "output_type": "stream",
     "text": [
      "158 ms ± 3.92 ms per loop (mean ± std. dev. of 7 runs, 1 loop each)\n"
     ]
    }
   ],
   "source": [
    "%%timeit\n",
    "mom_field = momentum_residue_field(\n",
    "                    ux=u_train[...,0],\n",
    "                    uy=u_train[...,1],\n",
    "                    p=u_train[...,2],\n",
    "                    datainfo=datainfo) # [i,t,x,y]"
   ]
  },
  {
   "cell_type": "code",
   "execution_count": 9,
   "metadata": {},
   "outputs": [
    {
     "name": "stdout",
     "output_type": "stream",
     "text": [
      "161 ms ± 4.61 ms per loop (mean ± std. dev. of 7 runs, 1 loop each)\n"
     ]
    }
   ],
   "source": [
    "%%timeit\n",
    "mom_field = derivatives.momentum_residue_field(\n",
    "                    ux=u_train[...,0],\n",
    "                    uy=u_train[...,1],\n",
    "                    p=u_train[...,2],\n",
    "                    datainfo=datainfo) # [i,t,x,y]"
   ]
  },
  {
   "cell_type": "code",
   "execution_count": 15,
   "metadata": {},
   "outputs": [],
   "source": [
    "new_jit = jax.jit(Partial(momentum_residue_field,datainfo=datainfo))\n",
    "old_jit = jax.jit(Partial(derivatives.momentum_residue_field,datainfo=datainfo))"
   ]
  },
  {
   "cell_type": "code",
   "execution_count": 51,
   "metadata": {},
   "outputs": [
    {
     "name": "stdout",
     "output_type": "stream",
     "text": [
      "132 ms ± 2.97 ms per loop (mean ± std. dev. of 7 runs, 10 loops each)\n"
     ]
    }
   ],
   "source": [
    "%timeit mom_field = new_jit(ux=u_train[...,0],uy=u_train[...,1],p=u_train[...,2]).block_until_ready() # [i,t,x,y]"
   ]
  },
  {
   "cell_type": "code",
   "execution_count": 52,
   "metadata": {},
   "outputs": [
    {
     "name": "stdout",
     "output_type": "stream",
     "text": [
      "161 ms ± 2.52 ms per loop (mean ± std. dev. of 7 runs, 10 loops each)\n"
     ]
    }
   ],
   "source": [
    "%timeit mom_field = old_jit(ux=u_train[...,0],uy=u_train[...,1],p=u_train[...,2]).block_until_ready() # [i,t,x,y]"
   ]
  },
  {
   "cell_type": "code",
   "execution_count": null,
   "metadata": {},
   "outputs": [],
   "source": []
  }
 ],
 "metadata": {
  "kernelspec": {
   "display_name": "fr",
   "language": "python",
   "name": "python3"
  },
  "language_info": {
   "codemirror_mode": {
    "name": "ipython",
    "version": 3
   },
   "file_extension": ".py",
   "mimetype": "text/x-python",
   "name": "python",
   "nbconvert_exporter": "python",
   "pygments_lexer": "ipython3",
   "version": "3.10.9"
  },
  "orig_nbformat": 4
 },
 "nbformat": 4,
 "nbformat_minor": 2
}
