{
 "cells": [
  {
   "cell_type": "code",
   "execution_count": 1,
   "metadata": {},
   "outputs": [],
   "source": [
    "import os\n",
    "os.environ[\"CUDA_VISIBLE_DEVICES\"] = \"1\"\n",
    "os.environ[\"XLA_PYTHON_CLIENT_PREALLOCATE\"]='false'"
   ]
  },
  {
   "cell_type": "code",
   "execution_count": 2,
   "metadata": {},
   "outputs": [],
   "source": [
    "from pathlib import Path\n",
    "import numpy as np\n",
    "\n",
    "from flowrec.training_and_states import TrainingState"
   ]
  },
  {
   "cell_type": "code",
   "execution_count": 3,
   "metadata": {},
   "outputs": [],
   "source": [
    "import jax\n",
    "import jax.numpy as jnp\n",
    "import haiku as hk"
   ]
  },
  {
   "cell_type": "code",
   "execution_count": 38,
   "metadata": {},
   "outputs": [],
   "source": [
    "from flowrec.models.feedforward import Model as FeedForward\n",
    "rng = jax.random.PRNGKey(5)\n",
    "x = jnp.array([1,2,3]).astype('float32')\n",
    "y = jnp.array([1,2,3,4,5]).astype('float32')\n",
    "mlp = FeedForward([2,5],rng)\n",
    "params = mlp.init(x)"
   ]
  },
  {
   "cell_type": "code",
   "execution_count": 39,
   "metadata": {},
   "outputs": [
    {
     "name": "stdout",
     "output_type": "stream",
     "text": [
      "mlp/~/linear_0\n",
      "{'b': DeviceArray([0., 0.], dtype=float32), 'w': DeviceArray([[ 1.0389447 ,  0.90172136],\n",
      "             [-0.03673628,  0.2453191 ],\n",
      "             [-1.0663218 , -0.9265131 ]], dtype=float32)}\n",
      "<class 'str'> <class 'dict'>\n",
      "mlp/~/linear_1\n",
      "{'b': DeviceArray([0., 0., 0., 0., 0.], dtype=float32), 'w': DeviceArray([[-0.73909765,  0.00764927, -0.5126396 ,  0.16823475,\n",
      "              -0.24050795],\n",
      "             [ 0.3720918 ,  0.8736663 ,  0.27848655,  0.24627039,\n",
      "               0.91382617]], dtype=float32)}\n",
      "<class 'str'> <class 'dict'>\n"
     ]
    }
   ],
   "source": [
    "# print(params)\n",
    "for key,val in params.items():\n",
    "    print(key)\n",
    "    print(val)\n",
    "    print(type(key),type(val))"
   ]
  },
  {
   "cell_type": "code",
   "execution_count": 40,
   "metadata": {},
   "outputs": [
    {
     "name": "stdout",
     "output_type": "stream",
     "text": [
      "Layer mlp/~/linear_0:b has (2,) weights. Sum of square 0.0\n",
      "Layer mlp/~/linear_0:w has (3, 2) weights. Sum of square 3.949507236480713\n",
      "Layer mlp/~/linear_1:b has (5,) weights. Sum of square 0.0\n",
      "Layer mlp/~/linear_1:w has (2, 5) weights. Sum of square 2.7702972888946533\n",
      "6.719805\n"
     ]
    }
   ],
   "source": [
    "norm = 0.\n",
    "for layer,weights in params.items():\n",
    "    for name,w in weights.items():\n",
    "        norm += regulariser_l2(w)\n",
    "        print(f'Layer {layer}:{name} has {w.shape} weights. Sum of square {regulariser_l2(w)}')\n",
    "print(norm)"
   ]
  },
  {
   "cell_type": "code",
   "execution_count": 41,
   "metadata": {},
   "outputs": [],
   "source": [
    "def regulariser_l2(weights):\n",
    "    f_norm = jnp.sum(jnp.square(weights))\n",
    "    return f_norm"
   ]
  },
  {
   "cell_type": "code",
   "execution_count": 42,
   "metadata": {},
   "outputs": [],
   "source": [
    "b = jax.tree_util.tree_leaves(params)"
   ]
  },
  {
   "cell_type": "code",
   "execution_count": 46,
   "metadata": {},
   "outputs": [],
   "source": [
    "a = jax.tree_util.tree_map(regulariser_l2,params)"
   ]
  },
  {
   "cell_type": "code",
   "execution_count": 62,
   "metadata": {},
   "outputs": [
    {
     "data": {
      "text/plain": [
       "6.719805"
      ]
     },
     "execution_count": 62,
     "metadata": {},
     "output_type": "execute_result"
    }
   ],
   "source": [
    "leaves = jax.tree_util.tree_leaves(a)\n",
    "np.sum(leaves)"
   ]
  },
  {
   "cell_type": "code",
   "execution_count": 57,
   "metadata": {},
   "outputs": [
    {
     "data": {
      "text/plain": [
       "{'mlp/~/linear_0': {'b': DeviceArray([0., 0.], dtype=float32),\n",
       "  'w': DeviceArray([[ 1.0389447 ,  0.90172136],\n",
       "               [-0.03673628,  0.2453191 ],\n",
       "               [-1.0663218 , -0.9265131 ]], dtype=float32)},\n",
       " 'mlp/~/linear_1': {'b': DeviceArray([0., 0., 0., 0., 0.], dtype=float32),\n",
       "  'w': DeviceArray([[-0.73909765,  0.00764927, -0.5126396 ,  0.16823475,\n",
       "                -0.24050795],\n",
       "               [ 0.3720918 ,  0.8736663 ,  0.27848655,  0.24627039,\n",
       "                 0.91382617]], dtype=float32)}}"
      ]
     },
     "execution_count": 57,
     "metadata": {},
     "output_type": "execute_result"
    }
   ],
   "source": [
    "c, c_structure = jax.tree_util.tree_flatten(params)\n",
    "jax.tree_util.tree_unflatten(c_structure, c)"
   ]
  }
 ],
 "metadata": {
  "kernelspec": {
   "display_name": "Python 3.9.13 ('fr')",
   "language": "python",
   "name": "python3"
  },
  "language_info": {
   "codemirror_mode": {
    "name": "ipython",
    "version": 3
   },
   "file_extension": ".py",
   "mimetype": "text/x-python",
   "name": "python",
   "nbconvert_exporter": "python",
   "pygments_lexer": "ipython3",
   "version": "3.9.13"
  },
  "orig_nbformat": 4,
  "vscode": {
   "interpreter": {
    "hash": "d0c4f52e826ba972db993c88e86bb40a803fc6f9fbf0ce58ed5ef88c4855dac4"
   }
  }
 },
 "nbformat": 4,
 "nbformat_minor": 2
}
