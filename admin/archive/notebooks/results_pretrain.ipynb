{
 "cells": [
  {
   "cell_type": "code",
   "execution_count": null,
   "metadata": {},
   "outputs": [],
   "source": [
    "import sys\n",
    "sys.path.append('..')\n",
    "from pathlib import Path\n",
    "import numpy as np\n",
    "import h5py\n",
    "import jax\n",
    "import jax.numpy as jnp\n",
    "import yaml\n",
    "import matplotlib.pyplot as plt\n",
    "plt.style.use('../flowrec/utils/ppt.mplstyle')\n",
    "\n",
    "import flowrec.training_and_states as state_utils\n",
    "import flowrec.data as data_utils\n",
    "import flowrec.physics_and_derivatives as derivatives\n",
    "\n",
    "from mpl_toolkits.axes_grid1 import ImageGrid, make_axes_locatable\n",
    "from scipy.interpolate import RBFInterpolator\n",
    "from flowrec.utils import simulation\n",
    "from flowrec import losses\n",
    "from flowrec.utils.py_helper import slice_from_tuple\n",
    "from flowrec.utils.system import set_gpu\n",
    "from flowrec.utils.myplots import truegrey, create_custom_colormap\n",
    "cmap = create_custom_colormap('trafficlight')\n",
    "set_gpu(0,0.5)\n",
    "# jax.config.update('jax_platform_name', 'cpu')"
   ]
  },
  {
   "cell_type": "code",
   "execution_count": null,
   "metadata": {},
   "outputs": [],
   "source": [
    "# results_dir = Path('../local_results/3dkol/kmplffmse250217185002') \n",
    "results_dir = Path('../local_results/3dkol/kmplffmse250218181248') \n",
    "\n",
    "with open(Path(results_dir,'config.yml'),'r') as f:\n",
    "    cfg = yaml.load(f, Loader=yaml.UnsafeLoader)\n",
    "\n",
    "cfg.data_config.update({'data_dir':'.'+cfg.data_config.data_dir})\n",
    "pressure_inlet_plane = cfg.data_config['pressure_inlet_slice'][:-1] + ((None,None,None),)\n",
    "# cfg.data_config.update({'data_dir':'../local_data/kolmogorov/dim2_re34_k32_f4_dt1_grid128_25619.h5'})\n",
    "print(cfg.data_config.data_dir)\n",
    "_result_file = Path(results_dir,'results.h5')\n",
    "if _result_file.exists(): \n",
    "    inprogress = False\n",
    "    with h5py.File(_result_file,'r') as hf:\n",
    "        loss_train = np.array(hf.get(\"loss_train\"))\n",
    "        loss_val = np.array(hf.get(\"loss_val\"))\n",
    "        loss_div = np.array(hf.get(\"loss_div\"))\n",
    "        loss_momentum = np.array(hf.get(\"loss_momentum\"))\n",
    "        loss_sensors = np.array(hf.get(\"loss_sensors\"))\n",
    "else:\n",
    "    inprogress = True\n",
    "\n",
    "datacfg = cfg.data_config\n",
    "traincfg = cfg.train_config"
   ]
  },
  {
   "cell_type": "code",
   "execution_count": null,
   "metadata": {},
   "outputs": [],
   "source": [
    "print(traincfg.to_dict())\n",
    "print(datacfg.to_dict())\n",
    "print(cfg.model_config.to_dict())"
   ]
  },
  {
   "cell_type": "code",
   "execution_count": null,
   "metadata": {},
   "outputs": [],
   "source": [
    "if not inprogress:\n",
    "    plt.figure()\n",
    "    fig, axes = plt.subplots(2,1)\n",
    "    axes[0].plot(loss_train, label='Training loss')\n",
    "    axes[0].plot(loss_val, label='Validation loss')\n",
    "    axes[0].set_yscale('log')\n",
    "    # axes[0].set_ylim([0.001,10])\n",
    "    axes[0].legend()\n",
    "    axes[1].plot(loss_momentum, label='Momentum loss')\n",
    "    axes[1].plot(loss_sensors, label='Sensor loss')\n",
    "    axes[1].set_yscale('log')\n",
    "    # axes[1].set_ylim([0.0001,2])\n",
    "    axes[1].legend()\n",
    "    fig.show()"
   ]
  },
  {
   "cell_type": "markdown",
   "metadata": {},
   "source": [
    "# Load Data"
   ]
  },
  {
   "cell_type": "markdown",
   "metadata": {},
   "source": [
    "## Load training and validation data"
   ]
  },
  {
   "cell_type": "code",
   "execution_count": null,
   "metadata": {},
   "outputs": [],
   "source": [
    "data, datainfo = cfg.case.dataloader(datacfg)\n",
    "print(data.keys())\n",
    "if datacfg.shuffle:\n",
    "    idx_shuffle, idx_unshuffle = data_utils.shuffle_with_idx(np.sum(datacfg.train_test_split), rng = np.random.default_rng(datacfg.randseed))"
   ]
  },
  {
   "cell_type": "code",
   "execution_count": null,
   "metadata": {},
   "outputs": [],
   "source": [
    "_keys_to_exclude = [\n",
    "    'u_train_clean',\n",
    "    'u_val_clean',\n",
    "    'train_minmax',\n",
    "    'val_minmax',\n",
    "    'u_train',\n",
    "    'u_val',\n",
    "    'inn_train',\n",
    "    'inn_val'\n",
    "]\n",
    "observe_kwargs = {key: value for key, value in data.items() if key not in _keys_to_exclude}\n",
    "take_observation, insert_observation = cfg.case.observe(\n",
    "    datacfg,\n",
    "    example_pred_snapshot = data['u_train'][0,...],\n",
    "    example_pin_snapshot = data['inn_train'][0,...],\n",
    "    **observe_kwargs\n",
    ")\n",
    "observed_train, train_minmax = take_observation(data['u_train'], init=True)\n",
    "observed_val, val_minmax = take_observation(data['u_val'], init=True)\n",
    "data.update({\n",
    "    'y_train':observed_train,\n",
    "    'y_val':observed_val,\n",
    "    'train_minmax':train_minmax,\n",
    "    'val_minmax':val_minmax \n",
    "})\n",
    "print(data.keys())"
   ]
  },
  {
   "cell_type": "code",
   "execution_count": null,
   "metadata": {},
   "outputs": [],
   "source": [
    "print(np.squeeze(data['inn_train']).ndim, data['u_train'].shape, data['y_train'].shape)"
   ]
  },
  {
   "cell_type": "markdown",
   "metadata": {},
   "source": [
    "## Load test data from the last \n"
   ]
  },
  {
   "cell_type": "code",
   "execution_count": null,
   "metadata": {},
   "outputs": [],
   "source": [
    "from flowrec.utils.simulation import read_data_kolsol"
   ]
  },
  {
   "cell_type": "code",
   "execution_count": null,
   "metadata": {},
   "outputs": [],
   "source": [
    "with open(datacfg.data_dir) as f:\n",
    "    datasets_path = [Path(datacfg.data_dir).parent/line.rstrip() for line in f]\n",
    "    testdata_path = datasets_path[-1]\n",
    "print(testdata_path.exists(), testdata_path)\n",
    "u_test, _, _ = read_data_kolsol(testdata_path)"
   ]
  },
  {
   "cell_type": "code",
   "execution_count": null,
   "metadata": {},
   "outputs": [],
   "source": [
    "y_test = take_observation(u_test)\n",
    "measured_shape = (-1,)+y_test.shape[1:]\n",
    "inn_loc = slice_from_tuple(datacfg.pressure_inlet_slice)\n",
    "s_pressure = (np.s_[:],) + inn_loc + (np.s_[-1],)\n",
    "inn_test = u_test[s_pressure].reshape((y_test.shape[0],-1))\n",
    "print(inn_test.shape)"
   ]
  },
  {
   "cell_type": "code",
   "execution_count": null,
   "metadata": {},
   "outputs": [],
   "source": [
    "def reorganise(train, val, idx):\n",
    "    return np.concatenate([train,val], axis=0)[idx]"
   ]
  },
  {
   "cell_type": "code",
   "execution_count": null,
   "metadata": {},
   "outputs": [],
   "source": [
    "## shuffle\n",
    "if datacfg.shuffle:\n",
    "\n",
    "    # data_reorganised = np.concatenate([data['y_train'],data['y_val']],axis=0)[idx_unshuffle]\n",
    "    data_reorganised = reorganise(data['y_train'],data['y_val'],idx_unshuffle)\n",
    "    fig, axes = plt.subplots(3,2,figsize=(10,5),width_ratios=[0.7,0.3],sharey=True)\n",
    "\n",
    "    for i in range(3):\n",
    "\n",
    "        axes[i,0].plot(datacfg.dt*np.arange(len(idx_shuffle)),data_reorganised[:,10,10,i],color=cmap(i),zorder=1)\n",
    "        axes[i,0].scatter(datacfg.dt*idx_shuffle[datacfg.train_test_split[0]:np.sum(datacfg.train_test_split[:2])], data['y_val'][:,10,10,i],color='k',s=3,zorder=2)\n",
    "        axes[i,0].vlines(datacfg.dt*np.cumsum(data['sets_index'][:-1]),-2,2,'r',linestyle=':')\n",
    "        axes[i,0].set_xlim([0,datacfg.dt*len(idx_shuffle)])\n",
    "\n",
    "        axes[i,1].plot(datacfg.dt*np.arange(y_test.shape[0]), y_test[:,10,10,i], color=cmap(i))\n",
    "\n",
    "    # axes[1,0].plot(datacfg.dt*np.arange(len(idx_shuffle)),data_reorganised[:,10,10,1],color=cmap(1),zorder=1)\n",
    "    # axes[1,0].scatter(datacfg.dt*idx_shuffle[datacfg.train_test_split[0]:np.sum(datacfg.train_test_split[:2])], data['y_val'][:,10,10,1],color='k',s=3,zorder=2)\n",
    "\n",
    "    # axes[2,0].plot(datacfg.dt*np.arange(len(idx_shuffle)),data_reorganised[:,10,10,2],color=cmap(2),zorder=1)\n",
    "    # axes[2,0].scatter(datacfg.dt*idx_shuffle[datacfg.train_test_split[0]:np.sum(datacfg.train_test_split[:2])], data['y_val'][:,10,10,2],color='b',s=3,zorder=2)"
   ]
  },
  {
   "cell_type": "code",
   "execution_count": null,
   "metadata": {},
   "outputs": [],
   "source": [
    "fig, axes = plt.subplots(2,3,sharex=True, sharey=True)\n",
    "axes = axes.flatten()\n",
    "for i in range(5):\n",
    "    i1 = int(np.sum(data['sets_index'][:i]))\n",
    "    i2 = int(np.sum(data['sets_index'][:i+1]))\n",
    "    axes[i].plot(datacfg.dt*np.arange(i2-i1),data['y_train'][i1:i2,10,10,0],color=cmap(0))\n",
    "    axes[i].plot(datacfg.dt*np.arange(i2-i1),data['y_train'][i1:i2,10,10,1],color=cmap(1))\n",
    "    axes[i].plot(datacfg.dt*np.arange(i2-i1),data['y_train'][i1:i2,10,10,2],color=cmap(2))\n",
    "axes[4].plot(datacfg.dt*np.arange(i2-i1,i2-i1+data['y_val'].shape[0]), data['y_val'][:,10,10,0], linestyle=':', color=cmap(0))\n",
    "axes[4].plot(datacfg.dt*np.arange(i2-i1,i2-i1+data['y_val'].shape[0]), data['y_val'][:,10,10,1], linestyle=':', color=cmap(1))\n",
    "axes[4].plot(datacfg.dt*np.arange(i2-i1,i2-i1+data['y_val'].shape[0]), data['y_val'][:,10,10,2], linestyle=':', color=cmap(2))\n",
    "axes[5].plot(datacfg.dt*np.arange(y_test.shape[0]), y_test[:,10,10,0], color=cmap(0), linestyle='--')\n",
    "axes[5].plot(datacfg.dt*np.arange(y_test.shape[0]), y_test[:,10,10,1], color=cmap(1), linestyle='--')\n",
    "axes[5].plot(datacfg.dt*np.arange(y_test.shape[0]), y_test[:,10,10,2], color=cmap(2), linestyle='--')\n",
    "plt.show()"
   ]
  },
  {
   "cell_type": "code",
   "execution_count": null,
   "metadata": {},
   "outputs": [],
   "source": [
    "_empty_data = jnp.zeros_like(data['u_train'][[0],...])\n",
    "_empty_pressure = _empty_data.at[s_pressure].set(inn_test[[0],jnp.newaxis,:,jnp.newaxis])[0,...,-1]\n",
    "z_plane = int(np.arange(64)[inn_loc[-1]])\n",
    "_empty_data = insert_observation(_empty_data, y_test[[0],...])[0,...,0]\n",
    "\n",
    "x, y, z = np.indices(_empty_data.shape)\n",
    "\n",
    "# Flatten the arrays to use in scatter plot\n",
    "x, y, z, values = x.flatten(), y.flatten(), z.flatten(), _empty_data.flatten()\n",
    "\n",
    "# Create 3D scatter plot\n",
    "fig = plt.figure(figsize=(8, 4))\n",
    "ax = fig.add_subplot(121, projection='3d')\n",
    "ax.view_init(elev=30, azim=120)\n",
    "\n",
    "# Scatter plot where color is based on cube values\n",
    "sc = ax.scatter(x, y, z, c=values, marker='o',)\n",
    "# Add colorbar to show value scale\n",
    "cbar = plt.colorbar(sc, ax=ax)\n",
    "cbar.set_label(\"u1\")\n",
    "ax.set_xlabel(\"X\")\n",
    "ax.set_ylabel(\"Y\")\n",
    "ax.set_zlabel(\"Z\")\n",
    "\n",
    "ax = fig.add_subplot(122, projection='3d')\n",
    "ax.view_init(elev=30, azim=140)\n",
    "sc = ax.scatter(x, y, z, c=_empty_pressure.flatten(), marker='o')\n",
    "cbar = plt.colorbar(sc, ax=ax)\n",
    "cbar.set_label(\"p\")\n",
    "\n",
    "\n",
    "# Labels and title\n",
    "ax.set_xlabel(\"X\")\n",
    "ax.set_ylabel(\"Y\")\n",
    "ax.set_zlabel(\"Z\")\n",
    "\n",
    "fig.suptitle('Sensor location')\n",
    "plt.show()\n"
   ]
  },
  {
   "cell_type": "markdown",
   "metadata": {},
   "source": [
    "# Load model"
   ]
  },
  {
   "cell_type": "code",
   "execution_count": null,
   "metadata": {},
   "outputs": [],
   "source": [
    "from flowrec.training_and_states import restore_trainingstate\n",
    "from flowrec.data import unnormalise_group, normalise"
   ]
  },
  {
   "cell_type": "code",
   "execution_count": null,
   "metadata": {},
   "outputs": [],
   "source": [
    "prep_data, make_model = cfg.case.select_model(datacfg=datacfg, mdl=cfg.model_config, traincfg=traincfg)\n",
    "data = prep_data(data, datainfo)\n",
    "inn_train = data['inn_train']\n",
    "inn_val = data['inn_val']\n",
    "y_train = data['y_train']\n",
    "y_val = data['y_val']\n",
    "_mdl_output_shape = y_train.shape[1:]\n",
    "y_test = np.reshape(y_test, (-1,)+_mdl_output_shape)\n",
    "mdl = make_model(cfg.model_config)\n",
    "state = restore_trainingstate(results_dir,'state')\n",
    "jax.tree_util.tree_map(lambda x: print(x.shape),state.params)\n",
    "param_count = sum(x.size for x in jax.tree_util.tree_leaves(state.params))\n",
    "print(f'Total number of parameters {param_count}')\n",
    "print(list(state.params))"
   ]
  },
  {
   "cell_type": "markdown",
   "metadata": {},
   "source": [
    "# Results"
   ]
  },
  {
   "cell_type": "code",
   "execution_count": null,
   "metadata": {},
   "outputs": [],
   "source": [
    "pred_train = []\n",
    "_t = 0\n",
    "while _t<inn_train.shape[0]:\n",
    "    if (_t + 500) < inn_train.shape[0]:\n",
    "        pred_train.append(\n",
    "            mdl.predict(state.params, inn_train[_t:_t+500,:])\n",
    "        )\n",
    "    else:\n",
    "        pred_train.append(\n",
    "            mdl.predict(state.params, inn_train[_t:,:])\n",
    "        )\n",
    "    _t = _t + 500\n",
    "pred_train = jnp.concatenate(pred_train, axis=0)\n",
    "\n",
    "if cfg.data_config.normalise:\n",
    "    raise NotImplementedError\n",
    "print(pred_train.shape)\n",
    "pred_train = pred_train.reshape(measured_shape)\n",
    "y_train = y_train.reshape(measured_shape)"
   ]
  },
  {
   "cell_type": "code",
   "execution_count": null,
   "metadata": {},
   "outputs": [],
   "source": [
    "pred_val = mdl.predict(state.params, inn_val)\n",
    "if cfg.data_config.normalise:\n",
    "    raise NotImplementedError\n",
    "print(pred_val.shape)\n",
    "pred_val = pred_val.reshape(measured_shape)\n",
    "y_val = y_val.reshape(measured_shape)\n",
    "\n",
    "pred_test = mdl.predict(state.params, inn_test)\n",
    "if cfg.data_config.normalise:\n",
    "    raise NotImplementedError\n",
    "print(pred_test.shape)\n",
    "pred_test = pred_test.reshape(measured_shape)\n",
    "y_test = y_test.reshape(measured_shape)"
   ]
  },
  {
   "cell_type": "code",
   "execution_count": null,
   "metadata": {},
   "outputs": [],
   "source": [
    "l_mse = losses.mse(pred_train, y_train)\n",
    "print(f'MSE of training slice: {l_mse:.3e}')\n",
    "l_mse_val = losses.mse(pred_val, y_val)\n",
    "print(f'MSE of validation slice: {l_mse_val:.3e}')\n",
    "l_mse_test = losses.mse(pred_test, y_test)\n",
    "print(f'MSE of testing slice: {l_mse_test:.3e}')"
   ]
  },
  {
   "cell_type": "code",
   "execution_count": null,
   "metadata": {},
   "outputs": [],
   "source": [
    "plt_step = 560\n",
    "component = 0\n",
    "vmin = y_train[::plt_step,:,:,component].min()\n",
    "vmax = y_train[::plt_step,:,:,component].max()\n",
    "ylims = [inn_train.min(), inn_train.max()]\n",
    "fig, axes = plt.subplots(3,5,figsize=(12,6),height_ratios=(0.4,0.4,0.2))\n",
    "fig.suptitle(f'Training Ref (top), model output (middle) and inlet pressure on observed plane z={z_plane}')\n",
    "for i in range(5):\n",
    "    im0 = axes[0,i].imshow(y_train[i*plt_step,:,:,component].T, vmin=vmin, vmax=vmax)\n",
    "    divider = make_axes_locatable(axes[0,i])\n",
    "    ax0 = divider.append_axes(\"right\", size=\"5%\", pad=0.0) \n",
    "    cbar = plt.colorbar(im0,cax=ax0) \n",
    "    axes[0,i].set(xlabel='x')\n",
    "    im1 = axes[1,i].imshow(pred_train[i*plt_step,:,:,component].T, vmin=vmin, vmax=vmax)\n",
    "    divider = make_axes_locatable(axes[1,i])\n",
    "    ax1 = divider.append_axes(\"right\", size=\"5%\", pad=0.0) \n",
    "    cbar = plt.colorbar(im1,cax=ax1) \n",
    "    axes[1,i].set(xlabel='x')\n",
    "    axes[2,i].plot(inn_train[i*plt_step,:])\n",
    "    axes[2,i].set(xlabel=f'y at x=0 t={i*plt_step}',ylim=ylims)\n",
    "axes[0,0].set(ylabel='y')\n",
    "axes[1,0].set(ylabel='y')\n",
    "# fig.tight_layout()\n",
    "plt.show()"
   ]
  },
  {
   "cell_type": "code",
   "execution_count": null,
   "metadata": {},
   "outputs": [],
   "source": [
    "plt_step = 45\n",
    "# vmin = y_val[::plt_step,:,:,component].min()\n",
    "# vmax = y_val[::plt_step,:,:,component].max()\n",
    "# ylims = [inn_val.min(), inn_val.max()]\n",
    "fig, axes = plt.subplots(3,5,figsize=(12,6),height_ratios=(0.4,0.4,0.2))\n",
    "fig.suptitle(f'Validation ref (top), model output (middle) and inlet pressure on observed plane z={z_plane}')\n",
    "for i in range(5):\n",
    "    im0 = axes[0,i].imshow(y_val[i*plt_step,:,:,component].T, vmin=vmin, vmax=vmax)\n",
    "    divider = make_axes_locatable(axes[0,i])\n",
    "    ax0 = divider.append_axes(\"right\", size=\"5%\", pad=0.0) \n",
    "    cbar = plt.colorbar(im0,cax=ax0) \n",
    "    axes[0,i].set(xlabel='x')\n",
    "    im1 = axes[1,i].imshow(pred_val[i*plt_step,:,:,component].T, vmin=vmin, vmax=vmax)\n",
    "    divider = make_axes_locatable(axes[1,i])\n",
    "    ax1 = divider.append_axes(\"right\", size=\"5%\", pad=0.0) \n",
    "    cbar = plt.colorbar(im1,cax=ax1) \n",
    "    axes[1,i].set(xlabel='x')\n",
    "    axes[2,i].plot(inn_val[i*plt_step,:])\n",
    "    axes[2,i].set(xlabel=f'y at x=0 t={i*plt_step}',ylim=ylims)\n",
    "axes[0,0].set(ylabel='y')\n",
    "axes[1,0].set(ylabel='y')\n",
    "# fig.tight_layout()\n",
    "plt.show()\n",
    "\n",
    "fig, axes = plt.subplots(3,5,figsize=(12,6),height_ratios=(0.4,0.4,0.2))\n",
    "fig.suptitle(f'Testing ref (top), model output (middle) and inlet pressure on observed plane z={z_plane}')\n",
    "for i in range(5):\n",
    "    im0 = axes[0,i].imshow(y_test[i*plt_step,:,:,component].T, vmin=vmin, vmax=vmax)\n",
    "    divider = make_axes_locatable(axes[0,i])\n",
    "    ax0 = divider.append_axes(\"right\", size=\"5%\", pad=0.0) \n",
    "    cbar = plt.colorbar(im0,cax=ax0) \n",
    "    axes[0,i].set(xlabel='x')\n",
    "    im1 = axes[1,i].imshow(pred_test[i*plt_step,:,:,component].T, vmin=vmin, vmax=vmax)\n",
    "    divider = make_axes_locatable(axes[1,i])\n",
    "    ax1 = divider.append_axes(\"right\", size=\"5%\", pad=0.0) \n",
    "    cbar = plt.colorbar(im1,cax=ax1) \n",
    "    axes[1,i].set(xlabel='x')\n",
    "    axes[2,i].plot(inn_test[i*plt_step,:])\n",
    "    axes[2,i].set(xlabel=f'y at x=0 t={i*plt_step}',ylim=ylims)\n",
    "axes[0,0].set(ylabel='y')\n",
    "axes[1,0].set(ylabel='y')\n",
    "# fig.tight_layout()\n",
    "plt.show()"
   ]
  },
  {
   "cell_type": "markdown",
   "metadata": {},
   "source": [
    "## Test on volume"
   ]
  },
  {
   "cell_type": "code",
   "execution_count": null,
   "metadata": {},
   "outputs": [],
   "source": [
    "inn_volume_index = slice_from_tuple(pressure_inlet_plane)\n",
    "u_train = data['u_train'].reshape((-1,64,64,64,4))\n",
    "inn_volume = np.squeeze(u_train[:,*inn_volume_index,-1])\n",
    "print(inn_volume.shape)"
   ]
  },
  {
   "cell_type": "code",
   "execution_count": null,
   "metadata": {},
   "outputs": [],
   "source": [
    "mdl_predict_overz = jax.vmap(mdl.predict, (None,2),2)\n",
    "pred_train_volume = mdl_predict_overz(state.params, inn_volume)\n",
    "pred_train_volume = pred_train_volume.reshape([*measured_shape,64])\n",
    "pred_train_volume = np.einsum('txyuz -> txyzu', pred_train_volume)"
   ]
  },
  {
   "cell_type": "code",
   "execution_count": null,
   "metadata": {},
   "outputs": [],
   "source": [
    "print(f'volume mse {losses.mse(pred_train_volume,u_train[...,:-1])}, measured plane {losses.mse(pred_train_volume[:,:,:,z_plane,:],u_train[:,:,:,z_plane,:-1])}')\n",
    "print(f'volume relative loss {losses.relative_error(pred_train_volume,u_train[...,:-1])}, measured plane {losses.relative_error(pred_train_volume[:,:,:,z_plane,:],u_train[:,:,:,z_plane,:-1])}')\n",
    "for r in [10,20,30]:\n",
    "    print(f'volume relative loss for planes z_plane+-{r} {losses.relative_error(pred_train_volume[...,z_plane-r:z_plane+r,:],u_train[...,z_plane-r:z_plane+r,:-1])}')"
   ]
  },
  {
   "cell_type": "code",
   "execution_count": null,
   "metadata": {},
   "outputs": [],
   "source": [
    "plt_z = [10,25,30,34,42,60]\n",
    "plt_t = 100\n",
    "component = 0\n",
    "vmin = u_train[::plt_step,:,:,plt_z,component].min()\n",
    "vmax = u_train[::plt_step,:,:,plt_z,component].max()\n",
    "ylims = [inn_volume[:,:,plt_z].min(), inn_volume[:,:,plt_z].max()]\n",
    "fig, axes = plt.subplots(3,5,figsize=(12,6),height_ratios=(0.4,0.4,0.2))\n",
    "fig.suptitle('Ref, prediction and inlet pressure')\n",
    "for i in range(5):\n",
    "    axes[0,i].imshow(u_train[plt_t,:,:,plt_z[i],component].T, vmin=vmin, vmax=vmax)\n",
    "    axes[0,i].set(xlabel='x', ylabel='y')\n",
    "    axes[1,i].imshow(pred_train_volume[plt_t,:,:,plt_z[i],component].T, vmin=vmin, vmax=vmax)\n",
    "    axes[1,i].set(xlabel='x', ylabel='y')\n",
    "    axes[2,i].plot(inn_volume[plt_t,:,plt_z[i]])\n",
    "    axes[2,i].set(xlabel=f'y at x=0 t={plt_t}, z={plt_z[i]}',ylim=ylims)\n",
    "fig.tight_layout()\n",
    "plt.show()"
   ]
  },
  {
   "cell_type": "markdown",
   "metadata": {},
   "source": [
    "### Statistics over volume"
   ]
  },
  {
   "cell_type": "code",
   "execution_count": null,
   "metadata": {},
   "outputs": [],
   "source": [
    "def plot_stats(pred, true):\n",
    "    fig1 = plt.figure(figsize=(4,2))\n",
    "    g = ImageGrid(fig1, 111, (1,2), cbar_mode='single')\n",
    "    imref = g.axes_all[0].imshow(np.mean(true, axis=(0,3))[:,:,0].T)\n",
    "    vmin, vmax = imref.get_clim()\n",
    "    impred = g.axes_all[1].imshow(np.mean(pred, axis=(0,3))[:,:,0].T, vmin=vmin, vmax=vmax)\n",
    "    g.cbar_axes[0].colorbar(imref)\n",
    "    fig1.suptitle('ref and reconstructed averaged over z & time')\n",
    "\n",
    "    fig2, axes = plt.subplots(1,4,figsize=(8,2))\n",
    "    for i,ax in enumerate(axes[:3]):\n",
    "        counts_true,bins_true = np.histogram(true[...,i].flatten()-np.mean(true[...,i].flatten()), density=True, bins=1000)\n",
    "        ax.stairs(counts_true,bins_true,label='true',linewidth=3, color=truegrey,alpha=0.5)\n",
    "        counts,bins= np.histogram(pred[...,i].flatten()-np.mean(pred[...,i].flatten()), density=True, bins=1000)\n",
    "        ax.stairs(counts,bins,label='recons')\n",
    "    spectrum_true, kbins = derivatives.get_tke(true-np.mean(true,axis=0), datainfo)\n",
    "    spectrum, _ = derivatives.get_tke(pred-np.mean(pred,axis=0), datainfo)\n",
    "    axes[3].loglog(kbins,spectrum_true,label='true',linewidth=3, color=truegrey,alpha=0.5)\n",
    "    axes[3].loglog(kbins,spectrum,label='recons')\n",
    "    axes[3].grid(which='both',axis='x')\n",
    "    axes[3].legend()\n",
    "    \n",
    "    return (fig1,g), (fig2,axes)\n",
    "\n",
    "def print_losses(pred, true):\n",
    "    forcing = data['forcing']\n",
    "    with jax.default_device(jax.devices('cpu')[0]):\n",
    "        _momfield = [losses.momentum_residual_field(pred[i*80:(i+1)*80,...],datainfo,forcing=forcing) for i in range(10)]\n",
    "        _momfield = jnp.concatenate(_momfield, axis=0)\n",
    "        _momfield_ref = [losses.momentum_residual_field(true[i*80:(i+1)*80,...],datainfo,forcing=forcing) for i in range(10)]\n",
    "        _momfield_ref = jnp.concatenate(_momfield_ref, axis=0)\n",
    "        l_momentum = losses.mse(_momfield)\n",
    "        l_momentum_ref = losses.mse(_momfield_ref)\n",
    "    l_div = losses.divergence(pred[...,:-1],datainfo)\n",
    "    l_div_ref = losses.divergence(true[...,:-1],datainfo)\n",
    "    l_rel = losses.relative_error(pred, true)\n",
    "    l_mse_slice = losses.mse(pred[...,z_plane,:-1],true[...,z_plane,:-1])\n",
    "\n",
    "    print(f'ref momentum loss: {l_momentum_ref:.5f}, ref divergence loss: {l_div_ref:.5f}')\n",
    "    print(f'pred momentum loss: {l_momentum:.5f}, pred divergence loss: {l_div:.5f}')\n",
    "    print(f'Relative error of the domain {l_rel*100:.3f}%')\n",
    "    print(f'Relative error of the domain close to the measured plane from z=20 to z=50 {100*losses.relative_error(pred[...,20:50,:], true[...,20:50,:]):.5f}%')\n",
    "    print(f'MSE of the domain close to the measured plane from z=20 to z=50 {100*losses.mse(pred[...,20:50,:], true[...,20:50,:]):.5f}')\n",
    "    print(f'MSE of the measured plane {l_mse_slice:5f}')"
   ]
  },
  {
   "cell_type": "code",
   "execution_count": null,
   "metadata": {},
   "outputs": [],
   "source": [
    "(fig1,_), (fig2,_) = plot_stats(pred_train_volume, u_train[...,:-1])\n",
    "plt.show()"
   ]
  }
 ],
 "metadata": {
  "kernelspec": {
   "display_name": "fr",
   "language": "python",
   "name": "python3"
  },
  "language_info": {
   "codemirror_mode": {
    "name": "ipython",
    "version": 3
   },
   "file_extension": ".py",
   "mimetype": "text/x-python",
   "name": "python",
   "nbconvert_exporter": "python",
   "pygments_lexer": "ipython3",
   "version": "3.11.2"
  }
 },
 "nbformat": 4,
 "nbformat_minor": 2
}
