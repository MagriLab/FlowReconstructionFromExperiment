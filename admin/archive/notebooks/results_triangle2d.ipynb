{
 "cells": [
  {
   "cell_type": "code",
   "execution_count": null,
   "metadata": {},
   "outputs": [],
   "source": [
    "import sys\n",
    "sys.path.append('..')\n",
    "import os\n",
    "os.environ[\"CUDA_VISIBLE_DEVICES\"] = \"2\"\n",
    "os.environ[\"XLA_PYTHON_CLIENT_MEM_FRACTION\"]=\".30\"\n",
    "import numpy as np\n",
    "import h5py\n",
    "import matplotlib.pyplot as plt\n",
    "from pathlib import Path\n",
    "import flowrec.training_and_states as state_utils\n",
    "import utils.simulation2d as project\n",
    "import flowrec.data as data_utils"
   ]
  },
  {
   "cell_type": "code",
   "execution_count": null,
   "metadata": {},
   "outputs": [],
   "source": [
    "results_dir = Path(\"../local_results/ffcnn/221127141652\")\n",
    "print('Does directory exist?',results_dir.exists())"
   ]
  },
  {
   "cell_type": "markdown",
   "metadata": {},
   "source": [
    "# Load results"
   ]
  },
  {
   "cell_type": "markdown",
   "metadata": {},
   "source": [
    "## saved to h5"
   ]
  },
  {
   "cell_type": "code",
   "execution_count": null,
   "metadata": {},
   "outputs": [],
   "source": [
    "with h5py.File(Path(results_dir,'results.h5'),'r') as hf:\n",
    "    loss_train = np.array(hf.get(\"loss_train\"))\n",
    "    loss_val = np.array(hf.get(\"loss_val\"))\n",
    "    ux_train = np.array(hf.get(\"ux_train\"))\n",
    "    ux_val = np.array(hf.get(\"ux_val\"))\n",
    "    ux_test = np.array(hf.get(\"ux_test\"))\n",
    "    \n",
    "    uy_train = np.array(hf.get(\"uy_train\"))\n",
    "    uy_val = np.array(hf.get(\"uy_val\"))\n",
    "    uy_test = np.array(hf.get(\"uy_test\"))\n",
    "    \n",
    "    pb_train = np.array(hf.get(\"pb_train\"))\n",
    "    pb_val = np.array(hf.get(\"pb_val\"))\n",
    "    pb_test = np.array(hf.get(\"pb_test\"))\n",
    "\n",
    "    ux_train_m = np.array(hf.get(\"ux_train_m\"))\n",
    "    ux_val_m = np.array(hf.get(\"ux_val_m\"))\n",
    "    ux_test_m = np.array(hf.get(\"ux_test_m\"))\n",
    "\n",
    "    uy_train_m = np.array(hf.get(\"uy_train_m\"))\n",
    "    uy_val_m = np.array(hf.get(\"uy_val_m\"))\n",
    "    uy_test_m = np.array(hf.get(\"uy_test_m\"))\n",
    "\n",
    "    pb_train_m = np.array(hf.get(\"pb_train_m\"))\n",
    "    pb_val_m = np.array(hf.get(\"pb_val_m\"))\n",
    "    pb_test_m = np.array(hf.get(\"pb_test_m\"))\n",
    "\n",
    "(ntrain,nx,ny) = ux_train.shape\n",
    "nval = ux_val.shape[0]\n",
    "ntest = ux_test.shape[0]"
   ]
  },
  {
   "cell_type": "code",
   "execution_count": null,
   "metadata": {},
   "outputs": [],
   "source": [
    "with h5py.File(Path(results_dir,'parameters.h5'),'r') as hf:\n",
    "    layers = list(hf.get(\"layers\"))"
   ]
  },
  {
   "cell_type": "markdown",
   "metadata": {},
   "source": [
    "## saved the random seed"
   ]
  },
  {
   "cell_type": "code",
   "execution_count": null,
   "metadata": {},
   "outputs": [],
   "source": [
    "with h5py.File(Path(results_dir,'results.h5'),'r') as hf:\n",
    "    loss_train = np.array(hf.get(\"loss_train\"))\n",
    "    loss_val = np.array(hf.get(\"loss_val\"))\n",
    "    randseed = hf.get(\"data_randseed\").astype('int16')[()]\n",
    "    train_test_split = list(hf.get(\"train_test_split\"))\n",
    "    x_base = hf.get(\"x_base\").astype('int16')[()]\n",
    "    triangle_base_coords = list(hf.get(\"triangle_base_coords\"))\n",
    "    data_dir = Path(hf.get(\"data_dir\")[()].decode())\n",
    "\n",
    "\n",
    "# partition data to be the same as training script\n",
    "(ux,uy,pp) = project.read_data(data_dir,x_base)\n",
    "x = np.stack([ux,uy,pp],axis=0)\n",
    "[x_train,x_val,x_test], [xm_train,xm_val,xm_test] = data_utils.data_partition(x,1,train_test_split,REMOVE_MEAN=True,randseed=randseed)\n",
    "# [x_train,x_val,x_test], [xm_train,xm_val,xm_test] = data_utils.data_partition(x,1,train_test_split,REMOVE_MEAN=True,SHUFFLE=False)#,randseed=randseed)\n",
    "[ux_train,uy_train,pp_train] = np.squeeze(np.split(x_train,3,axis=0))\n",
    "[ux_val,uy_val,pp_val] = np.squeeze(np.split(x_val,3,axis=0))\n",
    "[ux_test,uy_test,pp_test] = np.squeeze(np.split(x_test,3,axis=0))\n",
    "pb_train = project.take_measurement_base(pp_train,ly=triangle_base_coords,centrex=0)\n",
    "pb_val = project.take_measurement_base(pp_val,ly=triangle_base_coords,centrex=0)\n",
    "pb_test = project.take_measurement_base(pp_test,ly=triangle_base_coords,centrex=0)\n",
    "(ntrain,nx,ny) = ux_train.shape"
   ]
  },
  {
   "cell_type": "code",
   "execution_count": null,
   "metadata": {},
   "outputs": [],
   "source": [
    "[ux_train_m,uy_train_m,pp_train_m] = np.squeeze(np.split(xm_train,3,axis=0))\n",
    "[ux_val_m,uy_val_m,pp_val_m] = np.squeeze(np.split(xm_val,3,axis=0))\n",
    "[ux_test_m,uy_test_m,pp_test_m] = np.squeeze(np.split(xm_test,3,axis=0))"
   ]
  },
  {
   "cell_type": "code",
   "execution_count": null,
   "metadata": {},
   "outputs": [],
   "source": [
    "with h5py.File(Path(results_dir,'parameters.h5'),'r') as hf:\n",
    "    mlp_layers = list(hf.get(\"mlp_layers\"))\n",
    "    cnn_channels = list(hf.get(\"cnn_channels\"))\n",
    "    # cnn_filter = list(hf.get(\"cnn_filter\"))\n",
    "cnn_filter = [(3,3)]"
   ]
  },
  {
   "cell_type": "markdown",
   "metadata": {},
   "source": [
    "## losses"
   ]
  },
  {
   "cell_type": "code",
   "execution_count": null,
   "metadata": {},
   "outputs": [],
   "source": [
    "# loss\n",
    "fig,ax = plt.subplots(1,1)\n",
    "ax.plot(loss_train,label='train')\n",
    "ax.plot(loss_val,label='val')\n",
    "ax.set(title='loss',xlabel='epochs')\n",
    "plt.legend()\n",
    "plt.show()"
   ]
  },
  {
   "cell_type": "markdown",
   "metadata": {},
   "source": [
    "# Get model"
   ]
  },
  {
   "cell_type": "code",
   "execution_count": null,
   "metadata": {},
   "outputs": [],
   "source": [
    "import jax\n",
    "import jax.numpy as jnp\n",
    "import haiku as hk\n",
    "from flowrec.losses import loss_mse, mse"
   ]
  },
  {
   "cell_type": "code",
   "execution_count": null,
   "metadata": {},
   "outputs": [],
   "source": [
    "def mse_plane(x,y):\n",
    "    plane = jnp.einsum('t x y-> x y', (x-y)**2) / x.shape[0]\n",
    "    return plane\n",
    "\n",
    "loss = loss_mse"
   ]
  },
  {
   "cell_type": "code",
   "execution_count": null,
   "metadata": {},
   "outputs": [],
   "source": [
    "state = state_utils.restore_trainingstate(results_dir,'state')\n",
    "jax.tree_util.tree_map(lambda x: print(x.shape),state.params)"
   ]
  },
  {
   "cell_type": "markdown",
   "metadata": {},
   "source": [
    "## Feedforward"
   ]
  },
  {
   "cell_type": "code",
   "execution_count": null,
   "metadata": {},
   "outputs": [],
   "source": [
    "from flowrec.models.feedforward import Model as FeedForward"
   ]
  },
  {
   "cell_type": "code",
   "execution_count": null,
   "metadata": {},
   "outputs": [],
   "source": [
    "mdl = FeedForward(layers)\n",
    "\n",
    "ux_train = np.reshape(ux_train,(ntrain,-1))\n",
    "ux_test = np.reshape(ux_test,(ntest,-1))\n",
    "uy_train = np.reshape(uy_train,(ntrain,-1))\n",
    "uy_test = np.reshape(uy_test,(ntest,-1))\n",
    "u_train = np.hstack((ux_train,uy_train))\n",
    "u_test = np.hstack((ux_test,uy_test))\n",
    "pb_train = pb_train.reshape((ntrain,-1))\n",
    "pb_test = pb_test.reshape((ntest,-1))"
   ]
  },
  {
   "cell_type": "code",
   "execution_count": null,
   "metadata": {},
   "outputs": [],
   "source": [
    "u_train_pred = mdl.predict(state.params,pb_train)\n",
    "u_test_pred = mdl.predict(state.params,pb_test)\n",
    "train_loss = mse(u_train_pred,u_train)\n",
    "test_loss = mse(u_test_pred,u_test)\n",
    "print(f\"loss for training and testing set: {train_loss:.7f}, {test_loss:.7f}.\")"
   ]
  },
  {
   "cell_type": "code",
   "execution_count": null,
   "metadata": {},
   "outputs": [],
   "source": [
    "ux_train_pred = u_train_pred[:,:nx*ny].reshape((ntrain,nx,ny))\n",
    "ux_train = ux_train.reshape((ntrain,nx,ny))\n",
    "ux_test_pred = u_test_pred[:,:nx*ny].reshape((ntest,nx,ny))\n",
    "ux_test = ux_test.reshape((ntest,nx,ny))\n",
    "uy_train_pred = u_train_pred[:,nx*ny:].reshape((ntrain,nx,ny))\n",
    "uy_train = uy_train.reshape((ntrain,nx,ny))\n",
    "uy_test_pred = u_test_pred[:,nx*ny:].reshape((ntest,nx,ny))\n",
    "uy_test = uy_test.reshape((ntest,nx,ny))"
   ]
  },
  {
   "cell_type": "markdown",
   "metadata": {},
   "source": [
    "## FF+CNN"
   ]
  },
  {
   "cell_type": "code",
   "execution_count": null,
   "metadata": {},
   "outputs": [],
   "source": [
    "from flowrec.models.cnn import Model\n",
    "\n",
    "mdl = Model(mlp_layers=mlp_layers,output_shape=(nx,ny,2),cnn_channels=cnn_channels,cnn_filters=cnn_filter)\n",
    "\n",
    "pb_train = np.reshape(pb_train,(train_test_split[0],-1))\n",
    "u_train = np.stack((ux_train,uy_train),axis=-1)\n",
    "pb_test = np.reshape(pb_test,(train_test_split[2],-1))\n",
    "u_test = np.stack((ux_test,uy_test),axis=-1)\n",
    "pb_val = np.reshape(pb_val,(train_test_split[1],-1))\n",
    "u_val = np.stack((ux_val,uy_val),axis=-1)"
   ]
  },
  {
   "cell_type": "code",
   "execution_count": null,
   "metadata": {},
   "outputs": [],
   "source": [
    "u_train_pred = mdl.predict(state.params,pb_train)\n",
    "u_test_pred = mdl.predict(state.params,pb_test)\n",
    "u_val_pred = mdl.predict(state.params,pb_val)\n",
    "train_loss = mse(u_train_pred,u_train)\n",
    "test_loss = mse(u_test_pred,u_test)\n",
    "print(f\"loss for training and testing set: {train_loss:.7f}, {test_loss:.7f}.\")"
   ]
  },
  {
   "cell_type": "code",
   "execution_count": null,
   "metadata": {},
   "outputs": [],
   "source": [
    "ux_train_pred = u_train_pred[...,0]\n",
    "uy_train_pred = u_train_pred[...,1]\n",
    "ux_test_pred = u_test_pred[...,0]\n",
    "uy_test_pred = u_test_pred[...,1]\n",
    "ux_val_pred = u_val_pred[...,0]\n",
    "uy_val_pred = u_val_pred[...,1]"
   ]
  },
  {
   "attachments": {},
   "cell_type": "markdown",
   "metadata": {},
   "source": [
    "### Visualise output of feedforward layer"
   ]
  },
  {
   "cell_type": "code",
   "execution_count": null,
   "metadata": {},
   "outputs": [],
   "source": [
    "import flowrec.models.feedforward as ff\n",
    "ff_mdl = ff.Model(mlp_layers)\n"
   ]
  },
  {
   "cell_type": "code",
   "execution_count": null,
   "metadata": {},
   "outputs": [],
   "source": [
    "mlp_params = {}\n",
    "for i in range(len(mlp_layers)):\n",
    "    mlp_params[f'mlp/~/linear_{i}'] = state.params[f'mlp_with_cnn/~/mlp/~/linear_{i}']\n",
    "\n",
    "\n",
    "mid_u_train_pred = ff_mdl.predict(mlp_params,pb_train)"
   ]
  },
  {
   "cell_type": "code",
   "execution_count": null,
   "metadata": {},
   "outputs": [],
   "source": [
    "mid_u_train_pred = mid_u_train_pred.reshape((-1,)+u_train.shape)\n",
    "mid_u_train_pred.shape"
   ]
  },
  {
   "cell_type": "code",
   "execution_count": null,
   "metadata": {},
   "outputs": [],
   "source": [
    "t = 150\n",
    "fig,ax = plt.subplots(2,2,figsize=(6,10))\n",
    "\n",
    "im00 = ax[0,0].imshow(mid_u_train_pred[0,t,:,:,0],'jet')\n",
    "plt.colorbar(im00,ax=ax[0,0])\n",
    "ax[0,0].set_title(f'ux at t={t}')\n",
    "im01 = ax[0,1].imshow(mid_u_train_pred[0,t,:,:,1],'jet')\n",
    "plt.colorbar(im01,ax=ax[0,1])\n",
    "ax[0,1].set_title(f'uy at t={t}')\n",
    "\n",
    "im10 = ax[1,0].imshow(np.mean(mid_u_train_pred[0,:,:,:,0],axis=0),'jet')\n",
    "plt.colorbar(im10,ax=ax[1,0])\n",
    "ax[1,0].set_title('mean ux')\n",
    "im11 = ax[1,1].imshow(np.mean(mid_u_train_pred[0,:,:,:,1],axis=0),'jet')\n",
    "plt.colorbar(im11,ax=ax[1,1])\n",
    "ax[1,1].set_title('mean uy')\n",
    "plt.show()"
   ]
  },
  {
   "cell_type": "markdown",
   "metadata": {},
   "source": [
    "# Plot results"
   ]
  },
  {
   "cell_type": "code",
   "execution_count": null,
   "metadata": {},
   "outputs": [],
   "source": [
    "test_mse_ux = mse_plane(ux_test_pred,ux_test)\n",
    "train_mse_ux = mse_plane(ux_train_pred,ux_train)\n",
    "test_mse_uy = mse_plane(uy_test_pred,uy_test)\n",
    "train_mse_uy = mse_plane(uy_train_pred,uy_train)"
   ]
  },
  {
   "cell_type": "code",
   "execution_count": null,
   "metadata": {},
   "outputs": [],
   "source": [
    "# https://www.rocq.inria.fr/modulef/Doc/GB/Guide6-10/node21.html\n",
    "def relative_error(pred,true):\n",
    "    err = np.sqrt(\n",
    "        np.einsum('t x y -> ', (pred-true)**2)\n",
    "        / np.einsum('t x y -> ', true**2)\n",
    "    )\n",
    "    return err"
   ]
  },
  {
   "cell_type": "code",
   "execution_count": null,
   "metadata": {},
   "outputs": [],
   "source": [
    "test_rel_ux = relative_error(ux_test_pred,ux_test)\n",
    "train_rel_ux = relative_error(ux_train_pred,ux_train)\n",
    "test_rel_uy = relative_error(uy_test_pred,uy_test)\n",
    "train_rel_uy = relative_error(uy_train_pred,uy_train)"
   ]
  },
  {
   "cell_type": "code",
   "execution_count": null,
   "metadata": {},
   "outputs": [],
   "source": [
    "t = 50\n",
    "\n",
    "# ux\n",
    "fig = plt.figure(figsize=(12,5))\n",
    "subfigs = fig.subfigures(1, 3, wspace=0.07, width_ratios=[2,2,1])\n",
    "\n",
    "axl = subfigs[0].subplots(1,2,sharey=True)\n",
    "subfigs[0].suptitle(f'Training, loss={train_loss:.7f}')\n",
    "im1 = axl[0].imshow(ux_train[t,:,:]+ux_train_m,'jet',vmax=1.9,vmin=-0.6)\n",
    "axl[0].set_title('true')\n",
    "im2 = axl[1].imshow(ux_train_pred[t,...]+ux_train_m,'jet',vmax=1.9,vmin=-0.6)\n",
    "axl[1].set_title('pred')\n",
    "plt.colorbar(im1,ax=axl[0])\n",
    "plt.colorbar(im2,ax=axl[1],label='ux')\n",
    "\n",
    "axr = subfigs[1].subplots(1,2,sharey=True)\n",
    "subfigs[1].suptitle(f'Testing, loss={test_loss:.7f}')\n",
    "im1 = axr[0].imshow(ux_test[t,:,:]+ux_test_m,'jet',vmax=1.9,vmin=-0.6)\n",
    "axr[0].set_title('true')\n",
    "im2 = axr[1].imshow(ux_test_pred[t,...]+ux_test_m,'jet',vmax=1.9,vmin=-0.6)\n",
    "axr[1].set_title('pred')\n",
    "plt.colorbar(im1,ax=axr[0])\n",
    "plt.colorbar(im2,ax=axr[1],label='ux')\n",
    "\n",
    "ax = subfigs[2].add_subplot()\n",
    "im = ax.imshow(test_mse_ux,'jet')\n",
    "subfigs[2].suptitle(\"MSE of testing\")\n",
    "ax.set_title(f'rel $L_2$={test_rel_ux:.7f}')\n",
    "plt.colorbar(im,ax=ax)\n",
    "\n",
    "\n",
    "# uy\n",
    "fig = plt.figure(figsize=(12,5))\n",
    "subfigs = fig.subfigures(1, 3, wspace=0.07, width_ratios=[2,2,1])\n",
    "\n",
    "axl = subfigs[0].subplots(1,2,sharey=True)\n",
    "subfigs[0].suptitle(f'Training, loss={train_loss:.7f}')\n",
    "im1 = axl[0].imshow(uy_train[t,:,:]+uy_train_m,'jet',vmax=1.5,vmin=-1.5)\n",
    "axl[0].set_title('true')\n",
    "im2 = axl[1].imshow(uy_train_pred[t,...]+uy_train_m,'jet',vmax=1.5,vmin=-1.5)\n",
    "axl[1].set_title('pred')\n",
    "plt.colorbar(im1,ax=axl[0])\n",
    "plt.colorbar(im2,ax=axl[1],label='uy')\n",
    "\n",
    "axr = subfigs[1].subplots(1,2,sharey=True)\n",
    "subfigs[1].suptitle(f'Testing, loss={test_loss:.7f}')\n",
    "im1 = axr[0].imshow(uy_test[t,:,:]+uy_test_m,'jet',vmax=1.5,vmin=-1.5)\n",
    "axr[0].set_title('true')\n",
    "im2 = axr[1].imshow(uy_test_pred[t,...]+uy_test_m,'jet',vmax=1.5,vmin=-1.5)\n",
    "axr[1].set_title('pred')\n",
    "plt.colorbar(im1,ax=axr[0])\n",
    "plt.colorbar(im2,ax=axr[1],label='uy')\n",
    "\n",
    "ax = subfigs[2].add_subplot()\n",
    "im = ax.imshow(test_mse_uy,'jet')\n",
    "subfigs[2].suptitle(\"MSE of testing\")\n",
    "ax.set_title(f'rel $L_2$={test_rel_uy:.7f}')\n",
    "plt.colorbar(im,ax=ax)\n",
    "\n",
    "# inputs\n",
    "fig2,ax = plt.subplots(1,2,figsize = (12,3))\n",
    "ax[0].plot(pb_train[t,:])\n",
    "ax[0].set_title('train')\n",
    "ax[0].set_ylabel('Pressure')\n",
    "ax[0].set_xlabel('base of the bluff body')\n",
    "ax[0].set_xticks([])\n",
    "ax[1].plot(pb_test[t,:])\n",
    "ax[1].set_title('test')\n",
    "ax[1].set_ylabel('Pressure')\n",
    "ax[1].set_xlabel('base of the bluff body')\n",
    "ax[1].set_xticks([])\n",
    "fig2.suptitle(\"Input\")\n",
    "\n",
    "plt.show()"
   ]
  },
  {
   "cell_type": "markdown",
   "metadata": {},
   "source": [
    "# Divergence"
   ]
  },
  {
   "cell_type": "code",
   "execution_count": null,
   "metadata": {},
   "outputs": [],
   "source": [
    "@jax.jit\n",
    "def get_div_field(u,v,dx=1,dy=1):\n",
    "    dudx = jnp.gradient(u,dx,axis=1)\n",
    "    dvdy = jnp.gradient(v,dy,axis=2)\n",
    "    div = dudx + dvdy\n",
    "    return div\n"
   ]
  },
  {
   "cell_type": "code",
   "execution_count": null,
   "metadata": {},
   "outputs": [],
   "source": [
    "div_train = get_div_field(ux_train_pred,uy_train_pred,12/512,4/128)\n",
    "div_train_m = np.mean(div_train,axis=0)\n",
    "div_train_std = np.std(div_train,axis=0)\n",
    "\n",
    "div_test = get_div_field(ux_test_pred,uy_test_pred,12/512,4/128)\n",
    "div_test_m = np.mean(div_test,axis=0)\n",
    "div_test_std = np.std(div_test,axis=0)"
   ]
  },
  {
   "cell_type": "code",
   "execution_count": null,
   "metadata": {},
   "outputs": [],
   "source": [
    "# Using original data\n",
    "\n",
    "# div_train = get_div_field(ux_train,uy_train,12/512,4/128)\n",
    "# div_train_m = np.mean(div_train,axis=0)\n",
    "# div_train_std = np.std(div_train,axis=0)\n",
    "\n",
    "# div_test = get_div_field(ux_test,uy_test,12/512,4/128)\n",
    "# div_test_m = np.mean(div_test,axis=0)\n",
    "# div_test_std = np.std(div_test,axis=0)"
   ]
  },
  {
   "cell_type": "code",
   "execution_count": null,
   "metadata": {},
   "outputs": [],
   "source": [
    "fig = plt.figure(figsize=(10,5))\n",
    "subfigs = fig.subfigures(1, 2, wspace=0.07)\n",
    "\n",
    "axl = subfigs[0].subplots(1,2,sharey=True)\n",
    "subfigs[0].suptitle('Divergence of Training')\n",
    "im1 = axl[0].imshow(div_train_m,'jet')\n",
    "axl[0].set_title(f'mean\\n({np.mean(div_train):.7f})')\n",
    "im2 = axl[1].imshow(div_train_std,'jet')\n",
    "axl[1].set_title('standard deviation')\n",
    "plt.colorbar(im1,ax=axl[0])\n",
    "plt.colorbar(im2,ax=axl[1])\n",
    "\n",
    "axr = subfigs[1].subplots(1,2,sharey=True)\n",
    "subfigs[1].suptitle('Divergence of Testing')\n",
    "im1 = axr[0].imshow(div_test_m,'jet')\n",
    "axr[0].set_title(f'mean\\n({np.mean(div_test):.7f})')\n",
    "im2 = axr[1].imshow(div_test_std,'jet')\n",
    "axr[1].set_title('standard deviation')\n",
    "plt.colorbar(im1,ax=axr[0])\n",
    "plt.colorbar(im2,ax=axr[1])\n",
    "plt.show()"
   ]
  },
  {
   "cell_type": "code",
   "execution_count": null,
   "metadata": {},
   "outputs": [],
   "source": [
    "t = 30\n",
    "plt.figure(figsize=(4,6))\n",
    "plt.imshow(np.abs(div_test[t,...]),'jet')\n",
    "plt.colorbar(label='|div(V)|')\n",
    "plt.title(f'Divergence of true flow at snapshot {t}')\n",
    "plt.show()"
   ]
  },
  {
   "attachments": {},
   "cell_type": "markdown",
   "metadata": {},
   "source": [
    "# Statistics of the results"
   ]
  },
  {
   "cell_type": "code",
   "execution_count": null,
   "metadata": {},
   "outputs": [],
   "source": [
    "## probe the domain\n",
    "probe_location = [110,65,]\n",
    "\n",
    "fig, ax = plt.subplots(2,2,figsize=(6,10))\n",
    "im00 = ax[0,0].imshow(ux_test[t,:,:]+ux_test_m,'jet',vmax=1.9,vmin=-0.6)\n",
    "ax[0,0].set_title('ux_test_pred')\n",
    "plt.colorbar(im00,ax=ax[0,0])\n",
    "im01 = ax[0,1].imshow(test_mse_ux,'jet')\n",
    "ax[0,1].set_title('mse test')\n",
    "plt.colorbar(im01,ax=ax[0,1])\n",
    "\n",
    "im10 = ax[1,0].imshow(uy_test[t,:,:]+uy_test_m,'jet',vmax=1.5,vmin=-1.5)\n",
    "ax[1,0].set_title('uy_test_pred')\n",
    "plt.colorbar(im10,ax=ax[1,0])\n",
    "im11 = ax[1,1].imshow(test_mse_uy,'jet')\n",
    "ax[1,1].set_title('mse test')\n",
    "plt.colorbar(im11,ax=ax[1,1])\n",
    "\n",
    "for i,axi in enumerate(ax.reshape((-1))):\n",
    "    axi.scatter(probe_location[1],probe_location[0],s=10,c='r')\n",
    "\n",
    "plt.show()"
   ]
  },
  {
   "attachments": {},
   "cell_type": "markdown",
   "metadata": {},
   "source": [
    "## Original data"
   ]
  },
  {
   "cell_type": "code",
   "execution_count": null,
   "metadata": {},
   "outputs": [],
   "source": [
    "## Unshuffle dataset\n",
    "ux_all = np.vstack((ux_train+ux_train_m, ux_val+ux_val_m, ux_test+ux_test_m))\n",
    "uy_all = np.vstack((uy_train+uy_train_m, uy_val+uy_val_m, uy_test+uy_test_m))\n",
    "pp_all = np.vstack((pp_train+pp_train_m, pp_val+pp_val_m, pp_test+pp_test_m))\n",
    "_, idx_unshuffle = data_utils.shuffle_with_idx(ux_all.shape[0],np.random.default_rng(randseed))\n",
    "\n",
    "\n",
    "ux_all = ux_all[idx_unshuffle,:,:]\n",
    "uy_all = uy_all[idx_unshuffle,:,:]\n",
    "pp_all = pp_all[idx_unshuffle,:,:]\n"
   ]
  },
  {
   "cell_type": "code",
   "execution_count": null,
   "metadata": {},
   "outputs": [],
   "source": [
    "ux_all[0,0,0]"
   ]
  },
  {
   "cell_type": "code",
   "execution_count": null,
   "metadata": {},
   "outputs": [],
   "source": [
    "ux[0,0,0]"
   ]
  },
  {
   "cell_type": "code",
   "execution_count": null,
   "metadata": {},
   "outputs": [],
   "source": [
    "probe_ux = ux_all[:,probe_location[1],probe_location[0]]\n",
    "probe_uy = uy_all[:,probe_location[1],probe_location[0]]\n",
    "probe_p = pp_all[:,0,probe_location[0]]\n",
    "\n",
    "\n",
    "\n",
    "freq = np.fft.fftfreq(len(probe_ux),d=0.0002*1250)\n",
    "f_ux = np.fft.fft(probe_ux-np.mean(probe_ux))/len(probe_ux)\n",
    "f_uy = np.fft.fft(probe_uy-np.mean(probe_uy))/len(probe_uy)\n",
    "f_p = np.fft.fft(probe_p-np.mean(probe_p))/len(probe_p)\n",
    "plt.figure()\n",
    "plt.plot(freq[:int(len(freq)/2)],np.abs(f_ux)[:int(len(freq)/2)],label ='ux')\n",
    "plt.plot(freq[:int(len(freq)/2)],np.abs(f_uy)[:int(len(freq)/2)],label ='uy')\n",
    "# plt.plot(freq[:int(len(freq)/2)],np.abs(f_p)[:int(len(freq)/2)],label ='pp')\n",
    "plt.title('frequencies in data')\n",
    "plt.xlabel('frequency')\n",
    "plt.xlabel('frequency')\n",
    "plt.xlim([0,2])\n",
    "plt.legend()\n",
    "plt.minorticks_on()\n",
    "plt.grid(True, which='both', axis='x')\n",
    "plt.show()"
   ]
  },
  {
   "cell_type": "code",
   "execution_count": null,
   "metadata": {},
   "outputs": [],
   "source": [
    "## kinetic energy\n",
    "ke = ux_all**2 + uy_all**2\n",
    "ke = np.einsum('t x y -> t',ke)\n",
    "\n",
    "plt.figure(figsize=(10,5))\n",
    "ax1 = plt.subplot(111)\n",
    "ax1.plot(ke,label='kinetic energy',c='b')\n",
    "# plt.plot(ke,label='kinetic energy')\n",
    "ax2 = ax1.twinx()\n",
    "# plt.plot(probe_p)\n",
    "ax2.plot(probe_p,'g--',label='pressure at probe')\n",
    "plt.title('True data')\n",
    "ax1.set_xlabel('t')\n",
    "ax1.set_ylabel('kinetic energy')\n",
    "ax2.set_ylabel('pressure')\n",
    "plt.xlim([0,200])\n",
    "ax1.legend()\n",
    "ax2.legend()\n",
    "plt.show()"
   ]
  },
  {
   "cell_type": "code",
   "execution_count": null,
   "metadata": {},
   "outputs": [],
   "source": [
    "re = 100\n",
    "dt = 0.0002*625\n",
    "dx = 12/512\n",
    "dy = 4/128\n",
    "dudt = jnp.gradient(ux_all,dt,axis=0)\n",
    "dudx = jnp.gradient(ux_all,dx,axis=1)\n",
    "d2udx2 = jnp.gradient(dudx,dx,axis=1)\n",
    "dudy = jnp.gradient(ux_all,dy,axis=2)\n",
    "d2udy2 = jnp.gradient(dudy,dy,axis=2)\n",
    "dpdx = jnp.gradient(pp_all,dx,axis=1)\n",
    "ududx = dudx*ux_all\n",
    "vdudy = dudy*uy_all\n",
    "\n",
    "r = dudt + ududx + vdudy + dpdx - (d2udx2 + d2udy2)/re\n",
    "print('mean at t=50: ',np.mean(r[50,...]),'   mean for all t: ', np.mean(r))"
   ]
  },
  {
   "cell_type": "code",
   "execution_count": null,
   "metadata": {},
   "outputs": [],
   "source": [
    "fig, ax = plt.subplots(1,2,figsize=(6,6))\n",
    "im00 = ax[0].imshow(r[50,:,:],'jet')\n",
    "ax[0].set_title(f'Momentum residue\\n mean={np.mean(r):.5f}')\n",
    "plt.colorbar(im00,ax=ax[0])\n",
    "im01 = ax[1].imshow(np.std(r,axis=0),'jet')\n",
    "ax[1].set_title('standard deviation')\n",
    "plt.colorbar(im01,ax=ax[1])\n",
    "plt.show()\n"
   ]
  },
  {
   "attachments": {},
   "cell_type": "markdown",
   "metadata": {},
   "source": [
    "## Prediction"
   ]
  },
  {
   "cell_type": "code",
   "execution_count": null,
   "metadata": {},
   "outputs": [],
   "source": [
    "## Unshuffle prediction dataset\n",
    "ux_all_pred = np.vstack((ux_train_pred+ux_train_m, ux_val_pred+ux_val_m, ux_test_pred+ux_test_m))\n",
    "uy_all_pred = np.vstack((uy_train_pred+uy_train_m, uy_val_pred+uy_val_m, uy_test_pred+uy_test_m))\n",
    "_, idx_unshuffle = data_utils.shuffle_with_idx(ux_all.shape[0],np.random.default_rng(randseed))\n",
    "\n",
    "\n",
    "ux_all_pred = ux_all_pred[idx_unshuffle,:,:]\n",
    "uy_all_pred = uy_all_pred[idx_unshuffle,:,:]"
   ]
  },
  {
   "cell_type": "code",
   "execution_count": null,
   "metadata": {},
   "outputs": [],
   "source": [
    "probe_ux_pred = ux_all_pred[:,probe_location[1],probe_location[0]]\n",
    "probe_uy_pred = uy_all_pred[:,probe_location[1],probe_location[0]]\n",
    "\n",
    "\n",
    "\n",
    "freq = np.fft.fftfreq(len(probe_ux_pred),d=0.0002*1250)\n",
    "f_ux_pred = np.fft.fft(probe_ux_pred-np.mean(probe_ux_pred))/len(probe_ux_pred)\n",
    "f_uy_pred = np.fft.fft(probe_uy_pred-np.mean(probe_uy_pred))/len(probe_uy_pred)\n",
    "\n",
    "\n",
    "fig,ax = plt.subplots(1,2,figsize=(12,5))\n",
    "ax[0].set(title='ux',xlabel='frequency',xlim=[0,2])\n",
    "ax[0].plot(freq[:int(len(freq)/2)],np.abs(f_ux)[:int(len(freq)/2)],label ='true')\n",
    "ax[0].plot(freq[:int(len(freq)/2)],np.abs(f_ux_pred)[:int(len(freq)/2)],'--',label ='pred')\n",
    "ax[0].minorticks_on()\n",
    "ax[1].set(title='uy',xlabel='frequency',xlim=[0,2])\n",
    "ax[1].plot(freq[:int(len(freq)/2)],np.abs(f_uy)[:int(len(freq)/2)],label ='true')\n",
    "ax[1].plot(freq[:int(len(freq)/2)],np.abs(f_uy_pred)[:int(len(freq)/2)],'--',label ='pred')\n",
    "# ax[1].plot(freq[:int(len(freq)/2)],np.abs(f_uy_pred-f_uy)[:int(len(freq)/2)])\n",
    "ax[1].minorticks_on()\n",
    "ax[1].legend()\n",
    "ax[0].grid(True, which='both', axis='x')\n",
    "ax[1].grid(True, which='both', axis='x')\n",
    "\n",
    "\n",
    "# ax[0].set_yscale('log')\n",
    "# ax[1].set_yscale('log')\n",
    "plt.show()"
   ]
  },
  {
   "cell_type": "code",
   "execution_count": null,
   "metadata": {},
   "outputs": [],
   "source": [
    "## kinetic energy\n",
    "ke_pred = ux_all_pred**2 + uy_all_pred**2\n",
    "ke_pred = np.einsum('t x y -> t',ke_pred)\n",
    "\n",
    "plt.figure(figsize=(10,5))\n",
    "plt.plot(ke,label='true')\n",
    "plt.plot(ke_pred,label='predicted')\n",
    "plt.title('kinetic energy')\n",
    "plt.xlabel('t')\n",
    "plt.xlim([0,200])\n",
    "# plt.ylim([50000,90000])\n",
    "plt.legend()\n",
    "plt.show()"
   ]
  },
  {
   "cell_type": "code",
   "execution_count": null,
   "metadata": {},
   "outputs": [],
   "source": [
    "# velocity plot\n",
    "fig, ax = plt.subplots(1,2,figsize=(15,5))\n",
    "ax[0].set_title('ux')\n",
    "ax[0].plot(probe_ux,label='true')\n",
    "ax[0].plot(probe_ux_pred,'--',label='predicted')\n",
    "ax[1].set_title('uy')\n",
    "ax[1].plot(probe_uy,label='true')\n",
    "ax[1].plot(probe_uy_pred,'--',label='predicted')\n",
    "ax[1].legend()\n",
    "plt.show()"
   ]
  },
  {
   "cell_type": "markdown",
   "metadata": {},
   "source": [
    "Momentum"
   ]
  },
  {
   "cell_type": "code",
   "execution_count": null,
   "metadata": {},
   "outputs": [],
   "source": [
    "re = 100\n",
    "dt = 0.0002*625\n",
    "dx = 12/512\n",
    "dy = 4/128\n",
    "dudt = jnp.gradient(ux_all_pred,dt,axis=0)\n",
    "dudx = jnp.gradient(ux_all_pred,dx,axis=1)\n",
    "d2udx2 = jnp.gradient(dudx,dx,axis=1)\n",
    "dudy = jnp.gradient(ux_all_pred,dy,axis=2)\n",
    "d2udy2 = jnp.gradient(dudy,dy,axis=2)\n",
    "dpdx = jnp.gradient(pp_all,dx,axis=1)\n",
    "ududx = dudx*ux_all_pred\n",
    "vdudy = dudy*uy_all_pred\n",
    "\n",
    "r = dudt + ududx + vdudy + dpdx - (d2udx2 + d2udy2)/re\n",
    "print('mean at t=50: ',np.mean(r[50,...]),'   mean for all t: ', np.mean(r))"
   ]
  },
  {
   "cell_type": "code",
   "execution_count": null,
   "metadata": {},
   "outputs": [],
   "source": [
    "fig, ax = plt.subplots(1,2,figsize=(6,6))\n",
    "im00 = ax[0].imshow(r[50,:,:],'jet')\n",
    "ax[0].set_title(f'Momentum residue\\n mean={np.mean(r):.5f}')\n",
    "plt.colorbar(im00,ax=ax[0])\n",
    "im01 = ax[1].imshow(np.std(r,axis=0),'jet')\n",
    "ax[1].set_title('standard deviation')\n",
    "plt.colorbar(im01,ax=ax[1])\n",
    "plt.show()"
   ]
  }
 ],
 "metadata": {
  "kernelspec": {
   "display_name": "fr",
   "language": "python",
   "name": "python3"
  },
  "language_info": {
   "codemirror_mode": {
    "name": "ipython",
    "version": 3
   },
   "file_extension": ".py",
   "mimetype": "text/x-python",
   "name": "python",
   "nbconvert_exporter": "python",
   "pygments_lexer": "ipython3",
   "version": "3.9.13"
  },
  "orig_nbformat": 4,
  "vscode": {
   "interpreter": {
    "hash": "ecb526be1feea640919cad11cc2ec9c66266d8c670c29ef193550581cd3e9bd6"
   }
  }
 },
 "nbformat": 4,
 "nbformat_minor": 2
}
