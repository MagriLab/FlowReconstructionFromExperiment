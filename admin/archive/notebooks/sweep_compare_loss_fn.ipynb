{
 "cells": [
  {
   "cell_type": "code",
   "execution_count": null,
   "metadata": {},
   "outputs": [],
   "source": [
    "import numpy as np\n",
    "import matplotlib.pyplot as plt\n",
    "import wandb\n",
    "api = wandb.Api()"
   ]
  },
  {
   "attachments": {},
   "cell_type": "markdown",
   "metadata": {},
   "source": [
    "1. Replace prediction with measured data"
   ]
  },
  {
   "cell_type": "code",
   "execution_count": null,
   "metadata": {},
   "outputs": [],
   "source": [
    "sweep1 = api.sweep('FlowReconstruction/0582grfn')\n",
    "s1_runs = sweep1.runs"
   ]
  },
  {
   "cell_type": "code",
   "execution_count": null,
   "metadata": {},
   "outputs": [],
   "source": [
    "l1 = []\n",
    "lp1 = []\n",
    "ls1 = []\n",
    "c1 = []\n",
    "for run in s1_runs:\n",
    "    c1.append(run.config)\n",
    "    hist = run.scan_history(keys=['loss_sensors','loss_momentum','loss_div'])\n",
    "    l = []\n",
    "    lp =[]\n",
    "    ls = []\n",
    "    for row in hist:\n",
    "        l.append(row['loss_sensors'] + row['loss_momentum'] + row['loss_div'])\n",
    "        lp.append(row['loss_div'] + row['loss_momentum'])\n",
    "        ls.append(row['loss_sensors'])\n",
    "    l1.append(np.array(l))\n",
    "    lp1.append(np.array(lp))\n",
    "    ls1.append(np.array(ls))"
   ]
  },
  {
   "attachments": {},
   "cell_type": "markdown",
   "metadata": {},
   "source": [
    "2. Not replacing observations"
   ]
  },
  {
   "cell_type": "code",
   "execution_count": null,
   "metadata": {},
   "outputs": [],
   "source": [
    "sweep2 = api.sweep('FlowReconstruction/6407xae4')\n",
    "s2_runs = sweep2.runs"
   ]
  },
  {
   "cell_type": "code",
   "execution_count": null,
   "metadata": {},
   "outputs": [],
   "source": [
    "l2 = []\n",
    "lp2 = []\n",
    "ls2 = []\n",
    "c2 = []\n",
    "for run in s2_runs:\n",
    "    c2.append(run.config)\n",
    "    hist = run.scan_history(keys=['loss_sensors','loss_momentum','loss_div'])\n",
    "    l = []\n",
    "    lp =[]\n",
    "    ls = []\n",
    "    for row in hist:\n",
    "        l.append(row['loss_sensors'] + row['loss_momentum'] + row['loss_div'])\n",
    "        lp.append(row['loss_div'] + row['loss_momentum'])\n",
    "        ls.append(row['loss_sensors'])\n",
    "    l2.append(np.array(l))\n",
    "    lp2.append(np.array(lp))\n",
    "    ls2.append(np.array(ls))"
   ]
  },
  {
   "cell_type": "code",
   "execution_count": null,
   "metadata": {},
   "outputs": [],
   "source": []
  },
  {
   "cell_type": "code",
   "execution_count": null,
   "metadata": {},
   "outputs": [],
   "source": [
    "l_final1 = [l[-1] for l in l1]\n",
    "l_final2 = [l[-1] for l in l2]\n",
    "\n",
    "lp_final1 = [l[-1] for l in lp1]\n",
    "lp_final2 = [l[-1] for l in lp2]\n",
    "\n",
    "ls_final1 = [l[-1] for l in ls1]\n",
    "ls_final2 = [l[-1] for l in ls2]"
   ]
  },
  {
   "cell_type": "code",
   "execution_count": null,
   "metadata": {},
   "outputs": [],
   "source": [
    "ls_final1"
   ]
  },
  {
   "cell_type": "code",
   "execution_count": null,
   "metadata": {},
   "outputs": [],
   "source": [
    "fig, axes = plt.subplots(1,3,figsize=(10,3),sharex=True)\n",
    "\n",
    "axes[0].set(xticks=[1,2],xticklabels=['Replace','No replace'],xlim=[0.5,2.5],title='total loss')\n",
    "axes[0].errorbar(1,np.mean(l_final1),np.std(l_final1),marker='s',markersize=10)\n",
    "axes[0].errorbar(2,np.mean(l_final2),np.std(l_final2),marker='s',markersize=10)\n",
    "\n",
    "axes[1].set_title('physics loss')\n",
    "axes[1].errorbar(1,np.mean(lp_final1),np.std(lp_final1),marker='s',markersize=10)\n",
    "axes[1].errorbar(2,np.mean(lp_final2),np.std(lp_final2),marker='s',markersize=10)\n",
    "\n",
    "axes[2].set_title('sensor loss')\n",
    "axes[2].errorbar(1,np.mean(ls_final1),np.std(ls_final1),marker='s',markersize=10)\n",
    "axes[2].errorbar(2,np.mean(ls_final2),np.std(ls_final2),marker='s',markersize=10)\n",
    "\n",
    "plt.show()"
   ]
  },
  {
   "cell_type": "code",
   "execution_count": null,
   "metadata": {},
   "outputs": [],
   "source": [
    "fig, axes = plt.subplots(1,3,figsize=(10,3),sharex=True)\n",
    "\n",
    "axes[0].set(xticks=[1,2],xticklabels=['Replace','No replace'],xlim=[0.5,2.5],title='total loss',yscale='log')\n",
    "axes[0].scatter(np.ones_like(l_final1),l_final1,marker='x')\n",
    "axes[0].scatter(np.ones_like(l_final2)*2,l_final2,marker='x')\n",
    "\n",
    "axes[1].set(title='physics loss', yscale='log')\n",
    "axes[1].scatter(np.ones_like(lp_final1),lp_final1,marker='x')\n",
    "axes[1].scatter(np.ones_like(lp_final2)*2,lp_final2,marker='x')\n",
    "\n",
    "axes[2].set(title='sensor loss', yscale='log')\n",
    "axes[2].scatter(np.ones_like(ls_final1),ls_final1,marker='x')\n",
    "axes[2].scatter(np.ones_like(ls_final2)*2,ls_final2,marker='x')\n",
    "\n",
    "plt.show()"
   ]
  },
  {
   "cell_type": "code",
   "execution_count": null,
   "metadata": {},
   "outputs": [],
   "source": [
    "lr1 = [r['learning_rate'] for r in c1]\n",
    "lr2 = [r['learning_rate'] for r in c2]\n",
    "fig, axes = plt.subplots(2,3,figsize=(10,6),sharex=True)\n",
    "fig.suptitle('top: replace, bottom: no replace')\n",
    "\n",
    "axes[0,0].scatter(lr1,l_final1,marker='x',label='total')\n",
    "axes[0,0].set(title='total loss',ylabel='loss',yscale='log')\n",
    "axes[0,1].scatter(lr1,lp_final1,marker='x',label='physics')\n",
    "axes[0,1].set(title='physics loss',yscale='log')\n",
    "axes[0,2].scatter(lr1,ls_final1,marker='x',label='sensors')\n",
    "axes[0,2].set(title='sensor loss',yscale='log')\n",
    "\n",
    "\n",
    "axes[1,0].scatter(lr2,l_final2,marker='x',label='total')\n",
    "axes[1,0].set(title='total loss',ylabel='loss',xlabel='learning rate',yscale='log')\n",
    "axes[1,1].scatter(lr2,lp_final2,marker='x',label='physics')\n",
    "axes[1,1].set(title='physics loss',yscale='log')\n",
    "axes[1,2].scatter(lr2,ls_final2,marker='x',label='sensors')\n",
    "axes[1,2].set(title='sensor loss',yscale='log')\n",
    "plt.show()"
   ]
  },
  {
   "cell_type": "code",
   "execution_count": null,
   "metadata": {},
   "outputs": [],
   "source": [
    "corr1 = []\n",
    "corr2 = []\n",
    "\n",
    "for i in range(len(lp1)):\n",
    "    corr1.append(np.corrcoef(lp1[i][50000:],ls1[i][50000:])[1,1])\n",
    "for i in range(len(lp2)):\n",
    "    corr2.append(np.corrcoef(lp2[i][50000:],ls2[i][50000:])[1,1])"
   ]
  }
 ],
 "metadata": {
  "kernelspec": {
   "display_name": "fr",
   "language": "python",
   "name": "python3"
  },
  "language_info": {
   "codemirror_mode": {
    "name": "ipython",
    "version": 3
   },
   "file_extension": ".py",
   "mimetype": "text/x-python",
   "name": "python",
   "nbconvert_exporter": "python",
   "pygments_lexer": "ipython3",
   "version": "3.11.2"
  },
  "orig_nbformat": 4,
  "vscode": {
   "interpreter": {
    "hash": "be63462690caaf863a8f2f87c315b549d136da2cd2c42914566fe5de81becf9a"
   }
  }
 },
 "nbformat": 4,
 "nbformat_minor": 2
}
