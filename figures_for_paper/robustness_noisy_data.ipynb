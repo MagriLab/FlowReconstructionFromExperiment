{
 "cells": [
  {
   "cell_type": "code",
   "execution_count": 1,
   "metadata": {},
   "outputs": [],
   "source": [
    "import sys\n",
    "sys.path.append('..')\n",
    "import h5py\n",
    "import jax\n",
    "import yaml\n",
    "import matplotlib\n",
    "import numpy as np\n",
    "import matplotlib.pyplot as plt\n",
    "plt.style.use('../flowrec/utils/a4.mplstyle')\n",
    "\n",
    "from ml_collections import config_dict\n",
    "from pathlib import Path\n",
    "\n",
    "import flowrec.data as data_utils\n",
    "import flowrec.physics_and_derivatives as derivatives\n",
    "import flowrec.training_and_states as state_utils\n",
    "from flowrec import losses\n",
    "from flowrec.utils import simulation, my_discrete_cmap\n",
    "from flowrec.utils.py_helper import slice_from_tuple\n",
    "from flowrec.utils.system import set_gpu\n",
    "set_gpu(0,0.5)"
   ]
  },
  {
   "cell_type": "code",
   "execution_count": null,
   "metadata": {},
   "outputs": [],
   "source": [
    "# def get_loss_one_case(folder):\n",
    "#     with open(Path(folder,'config.yml'),'r') as f:\n",
    "#         cfg = yaml.load(f, Loader=yaml.UnsafeLoader)\n",
    "#         cfg.data_config.data_dir = '.'+cfg.data_config.data_dir\n",
    "#         rng = np.random.default_rng(cfg.data_config.randseed)\n",
    "\n",
    "#     x_base = 132\n",
    "#     triangle_base_coords = [49,80]\n",
    "#     (ux,uy,pp) = simulation.read_data(cfg.data_config.data_dir,x_base)\n",
    "#     x = np.stack([ux,uy,pp],axis=0)\n",
    "#     # remove parts where uz is not zero\n",
    "#     s = slice_from_tuple(cfg.data_config.slice_to_keep)\n",
    "#     x = x[s]\n",
    "\n",
    "#     [x_train,x_val,x_test], _ = data_utils.data_partition(x,\n",
    "#         1,\n",
    "#         cfg.data_config.train_test_split,\n",
    "#         REMOVE_MEAN=cfg.data_config.remove_mean,\n",
    "#         SHUFFLE=cfg.data_config.shuffle\n",
    "#     ) # Do not shuffle, do not remove mean for training with physics informed loss\n",
    "\n",
    "#     [ux_train,uy_train,pp_train] = np.squeeze(np.split(x_train,3,axis=0))\n",
    "#     [ux_val,uy_val,pp_val] = np.squeeze(np.split(x_val,3,axis=0))\n",
    "#     [ux_test,uy_test,pp_test] = np.squeeze(np.split(x_test,3,axis=0))\n",
    "\n",
    "#     datainfo = data_utils.DataMetadata(\n",
    "#         re = cfg.data_config.re,\n",
    "#         discretisation=[cfg.data_config.dt,cfg.data_config.dx,cfg.data_config.dy],\n",
    "#         axis_index=[0,1,2],\n",
    "#         problem_2d=True\n",
    "#     ).to_named_tuple()\n",
    "\n",
    "#     u_train = np.stack((ux_train,uy_train,pp_train),axis=-1)\n",
    "#     u_test = np.stack((ux_test,uy_test,pp_test),axis=-1)\n",
    "\n",
    "#     std_data = np.std(x,axis=(1,2,3),ddof=1)\n",
    "#     std_n = data_utils.get_whitenoise_std(cfg.data_config.snr,std_data)\n",
    "#     noise_ux = rng.normal(scale=std_n[0],size=x[0,...].shape)\n",
    "#     noise_uy = rng.normal(scale=std_n[1],size=x[1,...].shape)\n",
    "#     noise_pp = rng.normal(scale=std_n[2],size=x[2,...].shape)\n",
    "#     noise = np.stack([noise_ux,noise_uy,noise_pp],axis=0)\n",
    "#     x_noisy = x + noise\n",
    "\n",
    "#     [x_train_n,x_val_n,x_test_n], _ = data_utils.data_partition(x_noisy,\n",
    "#         1,\n",
    "#         cfg.data_config.train_test_split,\n",
    "#         REMOVE_MEAN=cfg.data_config.remove_mean,\n",
    "#         randseed=cfg.data_config.randseed,\n",
    "#         SHUFFLE=cfg.data_config.shuffle\n",
    "#     ) # Do not shuffle, do not remove mean for training with physics informed loss\n",
    "#     [ux_train_n,uy_train_n,pp_train_n] = np.squeeze(np.split(x_train_n,3,axis=0))\n",
    "#     [ux_val_n,uy_val_n,pp_val_n] = np.squeeze(np.split(x_val_n,3,axis=0))\n",
    "#     [ux_test_n,uy_test_n,pp_test_n] = np.squeeze(np.split(x_test_n,3,axis=0))\n",
    "\n",
    "#     ## normalise\n",
    "#     if cfg.data_config.normalise:\n",
    "#         [ux_train_normal_n,uy_train_normal_n,pp_train_normal_n], train_minmax = data_utils.normalise(ux_train_n,uy_train_n,pp_train_n)\n",
    "#         [ux_val_normal_n,uy_val_normal_n,pp_val_normal_n], val_minmax = data_utils.normalise(ux_val_n,uy_val_n,pp_val_n)\n",
    "#         [ux_test_normal_n,uy_test_normal_n,pp_test_normal_n], test_minmax = data_utils.normalise(ux_test_n,uy_test_n,pp_test_n)\n",
    "#         ## take input\n",
    "#         pb_train = simulation2d.take_measurement_base(pp_train_normal_n,ly=triangle_base_coords,centrex=0)\n",
    "#         pb_val = simulation2d.take_measurement_base(pp_val_normal_n,ly=triangle_base_coords,centrex=0)\n",
    "#         pb_test = simulation2d.take_measurement_base(pp_test_normal_n,ly=triangle_base_coords,centrex=0)\n",
    "#     else:\n",
    "#         ## take input\n",
    "#         pb_train = simulation2d.take_measurement_base(pp_train_n,ly=triangle_base_coords,centrex=0)\n",
    "#         pb_val = simulation2d.take_measurement_base(pp_val_n,ly=triangle_base_coords,centrex=0)\n",
    "#         pb_test = simulation2d.take_measurement_base(pp_test_n,ly=triangle_base_coords,centrex=0)\n",
    "\n",
    "#     pb_train = np.reshape(pb_train,(cfg.data_config.train_test_split[0],-1))\n",
    "#     pb_test = np.reshape(pb_test,(cfg.data_config.train_test_split[2],-1))\n",
    "\n",
    "#     u_train_n = np.stack((ux_train_n,uy_train_n,pp_train_n),axis=-1)\n",
    "#     u_test_n = np.stack((ux_test_n,uy_test_n,pp_test_n),axis=-1)\n",
    "\n",
    "\n",
    "#     ## predict\n",
    "#     state = state_utils.restore_trainingstate(folder,'state')\n",
    "#     _, make_model = cfg.case.select_model(datacfg=cfg.data_config, mdlcfg=cfg.model_config, traincfg=cfg.train_config)\n",
    "#     mdl = make_model(cfg.model_config)\n",
    "#     rng_mdl = jax.random.PRNGKey(cfg.train_config.randseed)\n",
    "#     pb_train_batch = np.array_split(pb_train,2,0)\n",
    "#     pred_train = []\n",
    "#     for inn in pb_train_batch:\n",
    "#         pred_train.append(mdl.apply(state.params,rng_mdl,inn,TRAINING=False))\n",
    "#     pred_train = np.concatenate(pred_train)\n",
    "#     pred_test = mdl.apply(state.params,rng_mdl,pb_test,TRAINING=False)\n",
    "#     if cfg.data_config.normalise:\n",
    "#         pred_train = data_utils.unnormalise_group(pred_train, train_minmax, axis_data=-1, axis_range=0)\n",
    "#         pred_test = data_utils.unnormalise_group(pred_test, test_minmax, axis_data=-1, axis_range=0)\n",
    "\n",
    "\n",
    "#     rel_l2_train = losses.relative_error(pred_train,u_train)\n",
    "#     rel_l2_test = losses.relative_error(pred_test,u_test)\n",
    "\n",
    "#     rel_l2_noisy_train = losses.relative_error(u_train_n,u_train)\n",
    "#     rel_l2_noisy_test = losses.relative_error(u_test_n,u_test)\n",
    "\n",
    "#     print(f'testing loss of run {str(folder)}:  {rel_l2_test}')\n",
    "\n",
    "#     return (rel_l2_train,rel_l2_test),(rel_l2_noisy_train,rel_l2_noisy_test)"
   ]
  },
  {
   "cell_type": "code",
   "execution_count": null,
   "metadata": {},
   "outputs": [],
   "source": [
    "# def get_summary(result_dir:Path):\n",
    "#     repeat_dir = result_dir.iterdir()\n",
    "#     loss = []\n",
    "#     loss_noisy_data = []\n",
    "\n",
    "#     ## load data\n",
    "#     for folder in repeat_dir:\n",
    "#         l, d = get_loss_one_case(folder)\n",
    "#         loss.append(l)\n",
    "#         loss_noisy_data.append(d)\n",
    "    \n",
    "#     return np.array(loss), np.array(loss_noisy_data)"
   ]
  },
  {
   "cell_type": "code",
   "execution_count": null,
   "metadata": {},
   "outputs": [],
   "source": [
    "# l_snr20_3,ln_snr20_3 = get_summary(Path('../local_results/draft/snr20_3/'))\n",
    "# l_snr20_mean3,ln_snr20_mean3 = get_summary(Path('../local_results/draft/snr20_mean3/'))\n",
    "# l_snr20_classic,ln_snr20_classic = get_summary(Path('../local_results/draft/snr20_classic/'))"
   ]
  },
  {
   "cell_type": "code",
   "execution_count": null,
   "metadata": {},
   "outputs": [],
   "source": [
    "# l_snr10_3,ln_snr10_3 = get_summary(Path('../local_results/draft/snr10_3/'))\n",
    "# l_snr10_mean3,ln_snr10_mean3 = get_summary(Path('../local_results/draft/snr10_mean3/'))\n",
    "# l_snr10_classic,ln_snr10_classic = get_summary(Path('../local_results/draft/snr10_classic/'))"
   ]
  },
  {
   "cell_type": "code",
   "execution_count": null,
   "metadata": {},
   "outputs": [],
   "source": [
    "# l_snr5_3,ln_snr5_3 = get_summary(Path('../local_results/draft/snr5_3/'))\n",
    "# l_snr5_mean3,ln_snr5_mean3 = get_summary(Path('../local_results/draft/snr5_mean3/'))\n",
    "# l_snr5_classic,ln_snr5_classic = get_summary(Path('../local_results/draft/snr5_classic/'))"
   ]
  },
  {
   "cell_type": "markdown",
   "metadata": {},
   "source": [
    "## Load summary file"
   ]
  },
  {
   "cell_type": "code",
   "execution_count": 28,
   "metadata": {},
   "outputs": [
    {
     "name": "stdout",
     "output_type": "stream",
     "text": [
      "[0.10428009 0.11539924]\n",
      "[0.12397095 0.12478574]\n",
      "[0.05586529 0.05662258]\n"
     ]
    }
   ],
   "source": [
    "with h5py.File(Path('../local_results/2dtriangle/repeat_noisy/snr20_classic/summary.h5')) as hf:\n",
    "    l_snr20_classic_train = np.array(hf.get('runs_loss_train'))\n",
    "    l_snr20_classic_val = np.array(hf.get('runs_loss_val'))\n",
    "    lmean_snr20_classic = np.array([np.mean(l_snr20_classic_train[:,0]), np.mean(l_snr20_classic_val[:,0])]) # mean over the repeats [rel_l2 train, rel_l2 val]\n",
    "    lstd_snr20_classic = np.array([np.std(l_snr20_classic_train[:,0]), np.std(l_snr20_classic_val[:,0])]) # std over the repeats [rel_l2 train, rel_l2 val]\n",
    "    print(lmean_snr20_classic)\n",
    "with h5py.File(Path('../local_results/2dtriangle/repeat_noisy/snr20_3/summary.h5')) as hf:\n",
    "    l_snr20_3_train = np.array(hf.get('runs_loss_train'))\n",
    "    l_snr20_3_val = np.array(hf.get('runs_loss_val'))\n",
    "    lmean_snr20_3 = np.array([np.mean(l_snr20_3_train[:,0]), np.mean(l_snr20_3_val[:,0])]) # mean over the repeats [rel_l2 train, rel_l2 val]\n",
    "    lstd_snr20_3 = np.array([np.std(l_snr20_3_train[:,0]), np.std(l_snr20_3_val[:,0])]) # std over the repeats [rel_l2 train, rel_l2 val]\n",
    "    print(lmean_snr20_3)\n",
    "with h5py.File(Path('../local_results/2dtriangle/repeat_noisy/snr20_mean3/summary.h5')) as hf:\n",
    "    l_snr20_mean3_train = np.array(hf.get('runs_loss_train'))\n",
    "    l_snr20_mean3_val = np.array(hf.get('runs_loss_val'))\n",
    "    lmean_snr20_mean3 = np.array([np.mean(l_snr20_mean3_train[:,0]), np.mean(l_snr20_mean3_val[:,0])]) # mean over the repeats [rel_l2 train, rel_l2 val]\n",
    "    lstd_snr20_mean3 = np.array([np.std(l_snr20_mean3_train[:,0]), np.std(l_snr20_mean3_val[:,0])]) # std over the repeats [rel_l2 train, rel_l2 val]\n",
    "    print(lmean_snr20_mean3)"
   ]
  },
  {
   "cell_type": "code",
   "execution_count": 29,
   "metadata": {},
   "outputs": [],
   "source": [
    "l_mean_classic = []\n",
    "l_mean_classic.append(lmean_snr20_classic)\n",
    "l_mean_classic = np.array(l_mean_classic)*100\n",
    "l_std_classic = []\n",
    "l_std_classic.append(lstd_snr20_classic)\n",
    "l_std_classic = np.array(l_std_classic)*100\n",
    "\n",
    "l_mean_3 = []\n",
    "l_mean_3.append(lmean_snr20_3)\n",
    "l_mean_3 = np.array(l_mean_3)*100\n",
    "l_std_3 = []\n",
    "l_std_3.append(lstd_snr20_3)\n",
    "l_std_3 = np.array(l_std_3)*100\n",
    "\n",
    "l_mean_mean3 = []\n",
    "l_mean_mean3.append(lmean_snr20_mean3)\n",
    "l_mean_mean3 = np.array(l_mean_mean3)*100\n",
    "l_std_mean3 = []\n",
    "l_std_mean3.append(lstd_snr20_mean3)\n",
    "l_std_mean3 = np.array(l_std_mean3)*100"
   ]
  },
  {
   "cell_type": "code",
   "execution_count": 30,
   "metadata": {},
   "outputs": [
    {
     "data": {
      "text/plain": [
       "array([0.00106692, 0.0011471 ], dtype=float32)"
      ]
     },
     "execution_count": 30,
     "metadata": {},
     "output_type": "execute_result"
    }
   ],
   "source": [
    "lstd_snr20_3"
   ]
  },
  {
   "cell_type": "code",
   "execution_count": null,
   "metadata": {},
   "outputs": [],
   "source": [
    "# l_mean_classic - rows: 20,10,5 snr. columns: training,testing"
   ]
  },
  {
   "cell_type": "code",
   "execution_count": 35,
   "metadata": {},
   "outputs": [
    {
     "data": {
      "image/png": "[encoded data removed]",
      "text/plain": [
       "<Figure size 550x350 with 1 Axes>"
      ]
     },
     "metadata": {},
     "output_type": "display_data"
    }
   ],
   "source": [
    "snr = [20,]\n",
    "plt.figure(figsize=(5.5,3.5))\n",
    "\n",
    "plt.errorbar(snr,l_mean_classic[:,0],yerr=l_std_classic[:,0],label='$\\mathcal{L}^c$ training',marker='x',color='steelblue',linewidth=2.5)\n",
    "plt.errorbar(snr,l_mean_3[:,0],yerr=l_std_3[:,0],label='$\\mathcal{L}^s$ training',marker='x',color='saddlebrown',linewidth=2.5)\n",
    "plt.errorbar(snr,l_mean_mean3[:,0],yerr=l_std_mean3[:,0],label='$\\mathcal{L}^m$ training',marker='x',color='green',linewidth=2.5)\n",
    "\n",
    "plt.errorbar(snr,l_mean_classic[:,1],yerr=l_std_classic[:,1],label='$\\mathcal{L}^c$ testing',marker='.',color='deepskyblue',linestyle=':')\n",
    "plt.errorbar(snr,l_mean_3[:,1],yerr=l_std_3[:,1],label='$\\mathcal{L}^s$ testing',marker='.',linestyle=':',color='darkorange')\n",
    "plt.errorbar(snr,l_mean_mean3[:,1],yerr=l_std_mean3[:,1],label='$\\mathcal{L}^m$ testing',marker='.',linestyle=':',color='limegreen',)\n",
    "\n",
    "plt.legend(ncol=2,loc='lower left')\n",
    "plt.ylabel('$\\epsilon (\\%)$')\n",
    "plt.xticks([5,10,20])\n",
    "plt.xlabel('SNR')\n",
    "# plt.ylim([0,70])\n",
    "# plt.savefig('./figs/noisy_compare_lossfn')\n",
    "plt.show()"
   ]
  }
 ],
 "metadata": {
  "kernelspec": {
   "display_name": "fr",
   "language": "python",
   "name": "python3"
  },
  "language_info": {
   "codemirror_mode": {
    "name": "ipython",
    "version": 3
   },
   "file_extension": ".py",
   "mimetype": "text/x-python",
   "name": "python",
   "nbconvert_exporter": "python",
   "pygments_lexer": "ipython3",
   "version": "3.11.2"
  },
  "orig_nbformat": 4
 },
 "nbformat": 4,
 "nbformat_minor": 2
}
