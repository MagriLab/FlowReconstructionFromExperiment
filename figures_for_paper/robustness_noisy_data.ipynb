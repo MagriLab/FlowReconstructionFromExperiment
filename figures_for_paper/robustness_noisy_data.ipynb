{
 "cells": [
  {
   "cell_type": "code",
   "execution_count": 5,
   "metadata": {},
   "outputs": [],
   "source": [
    "import sys\n",
    "sys.path.append('..')\n",
    "import h5py\n",
    "import jax\n",
    "import yaml\n",
    "import matplotlib\n",
    "import numpy as np\n",
    "import matplotlib.pyplot as plt\n",
    "plt.style.use('../flowrec/utils/a4.mplstyle')\n",
    "\n",
    "from ml_collections import config_dict\n",
    "from pathlib import Path\n",
    "\n",
    "import flowrec.data as data_utils\n",
    "import flowrec.physics_and_derivatives as derivatives\n",
    "import flowrec.training_and_states as state_utils\n",
    "from flowrec import losses\n",
    "from flowrec.utils import simulation2d\n",
    "from flowrec.utils.py_helper import slice_from_tuple"
   ]
  },
  {
   "cell_type": "code",
   "execution_count": 6,
   "metadata": {},
   "outputs": [],
   "source": [
    "def get_loss_one_case(folder):\n",
    "    with open(Path(folder,'config.yml'),'r') as f:\n",
    "        cfg = yaml.load(f, Loader=yaml.UnsafeLoader)\n",
    "        cfg.data_config.data_dir = '.'+cfg.data_config.data_dir\n",
    "        rng = np.random.default_rng(cfg.data_config.randseed)\n",
    "\n",
    "    x_base = 132\n",
    "    triangle_base_coords = [49,80]\n",
    "    (ux,uy,pp) = simulation2d.read_data(cfg.data_config.data_dir,x_base)\n",
    "    x = np.stack([ux,uy,pp],axis=0)\n",
    "    # remove parts where uz is not zero\n",
    "    s = slice_from_tuple(cfg.data_config.slice_to_keep)\n",
    "    x = x[s]\n",
    "\n",
    "    [x_train,x_val,x_test], _ = data_utils.data_partition(x,\n",
    "        1,\n",
    "        cfg.data_config.train_test_split,\n",
    "        REMOVE_MEAN=cfg.data_config.remove_mean,\n",
    "        SHUFFLE=cfg.data_config.shuffle\n",
    "    ) # Do not shuffle, do not remove mean for training with physics informed loss\n",
    "\n",
    "    [ux_train,uy_train,pp_train] = np.squeeze(np.split(x_train,3,axis=0))\n",
    "    [ux_val,uy_val,pp_val] = np.squeeze(np.split(x_val,3,axis=0))\n",
    "    [ux_test,uy_test,pp_test] = np.squeeze(np.split(x_test,3,axis=0))\n",
    "\n",
    "    datainfo = data_utils.DataMetadata(\n",
    "        re = cfg.data_config.re,\n",
    "        discretisation=[cfg.data_config.dt,cfg.data_config.dx,cfg.data_config.dy],\n",
    "        axis_index=[0,1,2],\n",
    "        problem_2d=True\n",
    "    ).to_named_tuple()\n",
    "\n",
    "    u_train = np.stack((ux_train,uy_train,pp_train),axis=-1)\n",
    "    u_test = np.stack((ux_test,uy_test,pp_test),axis=-1)\n",
    "\n",
    "    std_data = np.std(x,axis=(1,2,3),ddof=1)\n",
    "    std_n = data_utils.get_whitenoise_std(cfg.data_config.snr,std_data)\n",
    "    noise_ux = rng.normal(scale=std_n[0],size=x[0,...].shape)\n",
    "    noise_uy = rng.normal(scale=std_n[1],size=x[1,...].shape)\n",
    "    noise_pp = rng.normal(scale=std_n[2],size=x[2,...].shape)\n",
    "    noise = np.stack([noise_ux,noise_uy,noise_pp],axis=0)\n",
    "    x_noisy = x + noise\n",
    "\n",
    "    [x_train_n,x_val_n,x_test_n], _ = data_utils.data_partition(x_noisy,\n",
    "        1,\n",
    "        cfg.data_config.train_test_split,\n",
    "        REMOVE_MEAN=cfg.data_config.remove_mean,\n",
    "        randseed=cfg.data_config.randseed,\n",
    "        SHUFFLE=cfg.data_config.shuffle\n",
    "    ) # Do not shuffle, do not remove mean for training with physics informed loss\n",
    "    [ux_train_n,uy_train_n,pp_train_n] = np.squeeze(np.split(x_train_n,3,axis=0))\n",
    "    [ux_val_n,uy_val_n,pp_val_n] = np.squeeze(np.split(x_val_n,3,axis=0))\n",
    "    [ux_test_n,uy_test_n,pp_test_n] = np.squeeze(np.split(x_test_n,3,axis=0))\n",
    "\n",
    "    ## normalise\n",
    "    if cfg.data_config.normalise:\n",
    "        [ux_train_normal_n,uy_train_normal_n,pp_train_normal_n], train_minmax = data_utils.normalise(ux_train_n,uy_train_n,pp_train_n)\n",
    "        [ux_val_normal_n,uy_val_normal_n,pp_val_normal_n], val_minmax = data_utils.normalise(ux_val_n,uy_val_n,pp_val_n)\n",
    "        [ux_test_normal_n,uy_test_normal_n,pp_test_normal_n], test_minmax = data_utils.normalise(ux_test_n,uy_test_n,pp_test_n)\n",
    "        ## take input\n",
    "        pb_train = simulation2d.take_measurement_base(pp_train_normal_n,ly=triangle_base_coords,centrex=0)\n",
    "        pb_val = simulation2d.take_measurement_base(pp_val_normal_n,ly=triangle_base_coords,centrex=0)\n",
    "        pb_test = simulation2d.take_measurement_base(pp_test_normal_n,ly=triangle_base_coords,centrex=0)\n",
    "    else:\n",
    "        ## take input\n",
    "        pb_train = simulation2d.take_measurement_base(pp_train_n,ly=triangle_base_coords,centrex=0)\n",
    "        pb_val = simulation2d.take_measurement_base(pp_val_n,ly=triangle_base_coords,centrex=0)\n",
    "        pb_test = simulation2d.take_measurement_base(pp_test_n,ly=triangle_base_coords,centrex=0)\n",
    "\n",
    "    pb_train = np.reshape(pb_train,(cfg.data_config.train_test_split[0],-1))\n",
    "    pb_test = np.reshape(pb_test,(cfg.data_config.train_test_split[2],-1))\n",
    "\n",
    "    u_train_n = np.stack((ux_train_n,uy_train_n,pp_train_n),axis=-1)\n",
    "    u_test_n = np.stack((ux_test_n,uy_test_n,pp_test_n),axis=-1)\n",
    "\n",
    "\n",
    "    ## predict\n",
    "    state = state_utils.restore_trainingstate(folder,'state')\n",
    "    _, make_model = cfg.case.select_model(datacfg=cfg.data_config, mdlcfg=cfg.model_config, traincfg=cfg.train_config)\n",
    "    mdl = make_model(cfg.model_config)\n",
    "    rng_mdl = jax.random.PRNGKey(cfg.train_config.randseed)\n",
    "    pb_train_batch = np.array_split(pb_train,2,0)\n",
    "    pred_train = []\n",
    "    for inn in pb_train_batch:\n",
    "        pred_train.append(mdl.apply(state.params,rng_mdl,inn,TRAINING=False))\n",
    "    pred_train = np.concatenate(pred_train)\n",
    "    pred_test = mdl.apply(state.params,rng_mdl,pb_test,TRAINING=False)\n",
    "    if cfg.data_config.normalise:\n",
    "        pred_train = data_utils.unnormalise_group(pred_train, train_minmax, axis_data=-1, axis_range=0)\n",
    "        pred_test = data_utils.unnormalise_group(pred_test, test_minmax, axis_data=-1, axis_range=0)\n",
    "\n",
    "\n",
    "    rel_l2_train = losses.relative_error(pred_train,u_train)\n",
    "    rel_l2_test = losses.relative_error(pred_test,u_test)\n",
    "\n",
    "    rel_l2_noisy_train = losses.relative_error(u_train_n,u_train)\n",
    "    rel_l2_noisy_test = losses.relative_error(u_test_n,u_test)\n",
    "\n",
    "    print(f'testing loss of run {str(folder)}:  {rel_l2_test}')\n",
    "\n",
    "    return (rel_l2_train,rel_l2_test),(rel_l2_noisy_train,rel_l2_noisy_test)"
   ]
  },
  {
   "cell_type": "code",
   "execution_count": 7,
   "metadata": {},
   "outputs": [],
   "source": [
    "def get_summary(result_dir:Path):\n",
    "    repeat_dir = result_dir.iterdir()\n",
    "    loss = []\n",
    "    loss_noisy_data = []\n",
    "\n",
    "    ## load data\n",
    "    for folder in repeat_dir:\n",
    "        l, d = get_loss_one_case(folder)\n",
    "        loss.append(l)\n",
    "        loss_noisy_data.append(d)\n",
    "    \n",
    "    return np.array(loss), np.array(loss_noisy_data)"
   ]
  },
  {
   "cell_type": "code",
   "execution_count": 8,
   "metadata": {},
   "outputs": [
    {
     "name": "stderr",
     "output_type": "stream",
     "text": [
      "WARNING:jax._src.xla_bridge:No GPU/TPU found, falling back to CPU. (Set TF_CPP_MIN_LOG_LEVEL=0 and rerun for more info.)\n"
     ]
    },
    {
     "name": "stdout",
     "output_type": "stream",
     "text": [
      "testing loss of run ../local_results/draft/snr20_3/snr20_3-305:  0.06537740677595139\n",
      "testing loss of run ../local_results/draft/snr20_3/snr20_3-41:  0.06681867688894272\n",
      "testing loss of run ../local_results/draft/snr20_3/snr20_3-278:  0.0672474205493927\n",
      "testing loss of run ../local_results/draft/snr20_3/snr20_3-79:  0.06382215768098831\n",
      "testing loss of run ../local_results/draft/snr20_3/snr20_3-6:  0.06276116520166397\n",
      "testing loss of run ../local_results/draft/snr20_mean3/snr20_mean3-41:  0.06531280279159546\n",
      "testing loss of run ../local_results/draft/snr20_mean3/snr20_mean3-6:  0.0790155678987503\n",
      "testing loss of run ../local_results/draft/snr20_mean3/snr20_mean3-79:  0.07070533186197281\n",
      "testing loss of run ../local_results/draft/snr20_mean3/snr20_mean3-305:  0.08039495348930359\n",
      "testing loss of run ../local_results/draft/snr20_mean3/snr20_mean3-278:  0.0686882883310318\n",
      "testing loss of run ../local_results/draft/snr20_classic/snr20_classic-305:  0.196955144405365\n",
      "testing loss of run ../local_results/draft/snr20_classic/snr20_classic-79:  0.2072262167930603\n",
      "testing loss of run ../local_results/draft/snr20_classic/snr20_classic-41:  0.19039760529994965\n",
      "testing loss of run ../local_results/draft/snr20_classic/snr20_classic-6:  0.20095640420913696\n",
      "testing loss of run ../local_results/draft/snr20_classic/snr20_classic-278:  0.2138950526714325\n"
     ]
    }
   ],
   "source": [
    "l_snr20_3,ln_snr20_3 = get_summary(Path('../local_results/draft/snr20_3/'))\n",
    "l_snr20_mean3,ln_snr20_mean3 = get_summary(Path('../local_results/draft/snr20_mean3/'))\n",
    "l_snr20_classic,ln_snr20_classic = get_summary(Path('../local_results/draft/snr20_classic/'))"
   ]
  },
  {
   "cell_type": "code",
   "execution_count": 9,
   "metadata": {},
   "outputs": [
    {
     "name": "stdout",
     "output_type": "stream",
     "text": [
      "testing loss of run ../local_results/draft/snr10_3/snr10_3-6:  0.25934094190597534\n",
      "testing loss of run ../local_results/draft/snr10_3/snr10_3-278:  0.26075422763824463\n",
      "testing loss of run ../local_results/draft/snr10_3/snr10_3-305:  0.2930690050125122\n",
      "testing loss of run ../local_results/draft/snr10_3/snr10_3-79:  0.2969541847705841\n",
      "testing loss of run ../local_results/draft/snr10_3/snr10_3-41:  0.3181498050689697\n",
      "testing loss of run ../local_results/draft/snr10_mean3/snr10_mean3-79:  0.14381229877471924\n",
      "testing loss of run ../local_results/draft/snr10_mean3/snr10_mean3-6:  0.1349465399980545\n",
      "testing loss of run ../local_results/draft/snr10_mean3/snr10_mean3-305:  0.16885261237621307\n",
      "testing loss of run ../local_results/draft/snr10_mean3/snr10_mean3-41:  0.13615508377552032\n",
      "testing loss of run ../local_results/draft/snr10_mean3/snr10_mean3-278:  0.15121836960315704\n",
      "testing loss of run ../local_results/draft/snr10_classic/snr10_classic-278:  0.5163785219192505\n",
      "testing loss of run ../local_results/draft/snr10_classic/snr10_classic-6:  0.5166688561439514\n",
      "testing loss of run ../local_results/draft/snr10_classic/snr10_classic-305:  0.516583263874054\n",
      "testing loss of run ../local_results/draft/snr10_classic/snr10_classic-79:  0.5166563987731934\n",
      "testing loss of run ../local_results/draft/snr10_classic/snr10_classic-41:  0.5166919827461243\n"
     ]
    }
   ],
   "source": [
    "l_snr10_3,ln_snr10_3 = get_summary(Path('../local_results/draft/snr10_3/'))\n",
    "l_snr10_mean3,ln_snr10_mean3 = get_summary(Path('../local_results/draft/snr10_mean3/'))\n",
    "l_snr10_classic,ln_snr10_classic = get_summary(Path('../local_results/draft/snr10_classic/'))"
   ]
  },
  {
   "cell_type": "code",
   "execution_count": 10,
   "metadata": {},
   "outputs": [
    {
     "name": "stdout",
     "output_type": "stream",
     "text": [
      "testing loss of run ../local_results/draft/snr5_3/snr5_3-41:  0.6165057420730591\n",
      "testing loss of run ../local_results/draft/snr5_3/snr5_3-278:  0.6365638971328735\n",
      "testing loss of run ../local_results/draft/snr5_3/snr5_3-79:  0.6287872791290283\n",
      "testing loss of run ../local_results/draft/snr5_3/snr5_3-6:  0.6322055459022522\n",
      "testing loss of run ../local_results/draft/snr5_3/snr5_3-305:  0.638372004032135\n",
      "testing loss of run ../local_results/draft/snr5_mean3/snr5_mean3-41:  0.3830336928367615\n",
      "testing loss of run ../local_results/draft/snr5_mean3/snr5_mean3-278:  0.3821609318256378\n",
      "testing loss of run ../local_results/draft/snr5_mean3/snr5_mean3-79:  0.39388203620910645\n",
      "testing loss of run ../local_results/draft/snr5_mean3/snr5_mean3-6:  0.385606050491333\n",
      "testing loss of run ../local_results/draft/snr5_mean3/snr5_mean3-305:  0.38752225041389465\n",
      "testing loss of run ../local_results/draft/snr5_classic/snr5_classic-305:  0.5454773306846619\n",
      "testing loss of run ../local_results/draft/snr5_classic/snr5_classic-278:  0.545383632183075\n",
      "testing loss of run ../local_results/draft/snr5_classic/snr5_classic-6:  0.545409619808197\n",
      "testing loss of run ../local_results/draft/snr5_classic/snr5_classic-41:  0.5458261370658875\n",
      "testing loss of run ../local_results/draft/snr5_classic/snr5_classic-79:  0.5455001592636108\n"
     ]
    }
   ],
   "source": [
    "l_snr5_3,ln_snr5_3 = get_summary(Path('../local_results/draft/snr5_3/'))\n",
    "l_snr5_mean3,ln_snr5_mean3 = get_summary(Path('../local_results/draft/snr5_mean3/'))\n",
    "l_snr5_classic,ln_snr5_classic = get_summary(Path('../local_results/draft/snr5_classic/'))"
   ]
  },
  {
   "cell_type": "code",
   "execution_count": 11,
   "metadata": {},
   "outputs": [],
   "source": [
    "l_mean_classic = []\n",
    "l_mean_classic.append(np.mean(l_snr20_classic,axis=0))\n",
    "l_mean_classic.append(np.mean(l_snr10_classic,axis=0))\n",
    "l_mean_classic.append(np.mean(l_snr5_classic,axis=0))\n",
    "l_mean_classic = np.array(l_mean_classic)*100\n",
    "l_std_classic = []\n",
    "l_std_classic.append(np.std(l_snr20_classic,axis=0))\n",
    "l_std_classic.append(np.std(l_snr10_classic,axis=0))\n",
    "l_std_classic.append(np.std(l_snr5_classic,axis=0))\n",
    "l_std_classic = np.array(l_std_classic)*100\n",
    "\n",
    "l_mean_3 = []\n",
    "l_mean_3.append(np.mean(l_snr20_3,axis=0))\n",
    "l_mean_3.append(np.mean(l_snr10_3,axis=0))\n",
    "l_mean_3.append(np.mean(l_snr5_3,axis=0))\n",
    "l_mean_3 = np.array(l_mean_3)*100\n",
    "l_std_3 = []\n",
    "l_std_3.append(np.std(l_snr20_3,axis=0))\n",
    "l_std_3.append(np.std(l_snr10_3,axis=0))\n",
    "l_std_3.append(np.std(l_snr5_3,axis=0))\n",
    "l_std_3 = np.array(l_std_3)*100\n",
    "\n",
    "l_mean_mean3 = []\n",
    "l_mean_mean3.append(np.mean(l_snr20_mean3,axis=0))\n",
    "l_mean_mean3.append(np.mean(l_snr10_mean3,axis=0))\n",
    "l_mean_mean3.append(np.mean(l_snr5_mean3,axis=0))\n",
    "l_mean_mean3 = np.array(l_mean_mean3)*100\n",
    "l_std_mean3 = []\n",
    "l_std_mean3.append(np.std(l_snr20_mean3,axis=0))\n",
    "l_std_mean3.append(np.std(l_snr10_mean3,axis=0))\n",
    "l_std_mean3.append(np.std(l_snr5_mean3,axis=0))\n",
    "l_std_mean3 = np.array(l_std_mean3)*100"
   ]
  },
  {
   "cell_type": "code",
   "execution_count": 14,
   "metadata": {},
   "outputs": [
    {
     "data": {
      "image/png": "[encoded data removed]",
      "text/plain": [
       "<Figure size 550x350 with 1 Axes>"
      ]
     },
     "metadata": {},
     "output_type": "display_data"
    }
   ],
   "source": [
    "snr = [20,10,5]\n",
    "plt.figure(figsize=(5.5,3.5))\n",
    "\n",
    "plt.errorbar(snr,l_mean_classic[:,0],yerr=l_std_classic[:,0],label='$\\mathcal{L}^c$ training',marker='x',color='steelblue',linewidth=2.5)\n",
    "plt.errorbar(snr,l_mean_3[:,0],yerr=l_std_3[:,0],label='$\\mathcal{L}^s$ training',marker='x',color='saddlebrown',linewidth=2.5)\n",
    "plt.errorbar(snr,l_mean_mean3[:,0],yerr=l_std_mean3[:,0],label='$\\mathcal{L}^m$ training',marker='x',color='green',linewidth=2.5)\n",
    "\n",
    "plt.errorbar(snr,l_mean_classic[:,1],yerr=l_std_classic[:,1],label='$\\mathcal{L}^c$ testing',marker='.',color='deepskyblue',linestyle=':')\n",
    "plt.errorbar(snr,l_mean_3[:,1],yerr=l_std_3[:,1],label='$\\mathcal{L}^s$ testing',marker='.',linestyle=':',color='darkorange')\n",
    "plt.errorbar(snr,l_mean_mean3[:,1],yerr=l_std_mean3[:,1],label='$\\mathcal{L}^m$ testing',marker='.',linestyle=':',color='limegreen',)\n",
    "\n",
    "plt.legend(ncol=2,loc='upper right')\n",
    "plt.ylabel('$\\epsilon (\\%)$')\n",
    "plt.xticks([5,10,20])\n",
    "plt.xlabel('SNR')\n",
    "plt.ylim([0,70])\n",
    "# plt.savefig('./figs/noisy_compare_lossfn')\n",
    "plt.show()"
   ]
  }
 ],
 "metadata": {
  "kernelspec": {
   "display_name": "fr",
   "language": "python",
   "name": "python3"
  },
  "language_info": {
   "codemirror_mode": {
    "name": "ipython",
    "version": 3
   },
   "file_extension": ".py",
   "mimetype": "text/x-python",
   "name": "python",
   "nbconvert_exporter": "python",
   "pygments_lexer": "ipython3",
   "version": "3.11.2"
  },
  "orig_nbformat": 4
 },
 "nbformat": 4,
 "nbformat_minor": 2
}
