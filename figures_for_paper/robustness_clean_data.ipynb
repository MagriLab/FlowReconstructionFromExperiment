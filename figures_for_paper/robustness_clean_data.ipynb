{
 "cells": [
  {
   "cell_type": "code",
   "execution_count": 42,
   "metadata": {},
   "outputs": [],
   "source": [
    "import sys\n",
    "sys.path.append('..')\n",
    "import h5py\n",
    "import yaml\n",
    "import matplotlib\n",
    "import numpy as np\n",
    "import matplotlib.pyplot as plt\n",
    "plt.style.use('../utils/a4.mplstyle')\n",
    "\n",
    "from ml_collections import config_dict\n",
    "from pathlib import Path\n",
    "\n",
    "import flowrec.data as data_utils\n",
    "import flowrec.physics_and_derivatives as derivatives\n",
    "import flowrec.training_and_states as state_utils\n",
    "from flowrec import losses\n",
    "from utils import simulation2d\n",
    "from utils.py_helper import slice_from_tuple"
   ]
  },
  {
   "cell_type": "code",
   "execution_count": 7,
   "metadata": {},
   "outputs": [],
   "source": [
    "# plt.figure()\n",
    "# plt.plot(loss_good_mse[:,0],loss_good_mse[:,1],label='physics')\n",
    "# plt.plot(loss_good_mse[:,0],loss_good_mse[:,2],label='sensors')\n",
    "# plt.yscale('log')\n",
    "# plt.legend()\n",
    "# plt.show()"
   ]
  },
  {
   "cell_type": "markdown",
   "metadata": {},
   "source": [
    "# Load data and model for evaluation"
   ]
  },
  {
   "cell_type": "code",
   "execution_count": 8,
   "metadata": {},
   "outputs": [],
   "source": [
    "temp_results_dir = Path('../local_results/sweep_loss_3/denim-sweep-15/')\n",
    "with open(Path(temp_results_dir,'config.yml'),'r') as f:\n",
    "    cfg = yaml.load(f, Loader=yaml.UnsafeLoader)\n",
    "    cfg.data_config.data_dir = '.'+cfg.data_config.data_dir\n",
    "\n",
    "x_base = 132\n",
    "triangle_base_coords = [49,80]\n",
    "(ux,uy,pp) = simulation2d.read_data(cfg.data_config.data_dir,x_base)\n",
    "x = np.stack([ux,uy,pp],axis=0)\n",
    "# remove parts where uz is not zero\n",
    "s = slice_from_tuple(cfg.data_config.slice_to_keep)\n",
    "x = x[s]\n",
    "\n",
    "[x_train,x_val,x_test], _ = data_utils.data_partition(x,\n",
    "    1,\n",
    "    cfg.data_config.train_test_split,\n",
    "    REMOVE_MEAN=cfg.data_config.remove_mean,\n",
    "    SHUFFLE=cfg.data_config.shuffle\n",
    ") # Do not shuffle, do not remove mean for training with physics informed loss\n",
    "\n",
    "[ux_train,uy_train,pp_train] = np.squeeze(np.split(x_train,3,axis=0))\n",
    "[ux_val,uy_val,pp_val] = np.squeeze(np.split(x_val,3,axis=0))\n",
    "[ux_test,uy_test,pp_test] = np.squeeze(np.split(x_test,3,axis=0))\n",
    "\n",
    "datainfo = data_utils.DataMetadata(\n",
    "    re = cfg.data_config.re,\n",
    "    discretisation=[cfg.data_config.dt,cfg.data_config.dx,cfg.data_config.dy],\n",
    "    axis_index=[0,1,2],\n",
    "    problem_2d=True\n",
    ").to_named_tuple()\n"
   ]
  },
  {
   "cell_type": "markdown",
   "metadata": {},
   "source": [
    "Load runs summary"
   ]
  },
  {
   "cell_type": "code",
   "execution_count": 9,
   "metadata": {},
   "outputs": [],
   "source": [
    "sweep_dir_3 = Path('../local_results/sweep_loss_3')\n",
    "with h5py.File(Path(sweep_dir_3,'summary.h5'),'r') as hf:\n",
    "    name_3 = np.array(hf.get('runs_name')).astype('unicode')\n",
    "    loss_3 = np.array(hf.get('runs_loss'))\n"
   ]
  },
  {
   "cell_type": "code",
   "execution_count": 10,
   "metadata": {},
   "outputs": [],
   "source": [
    "sweep_dir_classic = Path('../local_results/sweep_loss_classic')\n",
    "with h5py.File(Path(sweep_dir_classic,'summary.h5'),'r') as hf:\n",
    "    name_classic = np.array(hf.get('runs_name')).astype('unicode')\n",
    "    loss_classic = np.array(hf.get('runs_loss'))\n"
   ]
  },
  {
   "cell_type": "markdown",
   "metadata": {},
   "source": [
    "plot statistics"
   ]
  },
  {
   "cell_type": "code",
   "execution_count": 45,
   "metadata": {},
   "outputs": [
    {
     "data": {
      "image/png": "[encoded data removed]",
      "text/plain": [
       "<Figure size 700x400 with 1 Axes>"
      ]
     },
     "metadata": {},
     "output_type": "display_data"
    }
   ],
   "source": [
    "fig,ax = plt.subplots(1,1)\n",
    "ax.set(yscale='log',xticks=[1,2,3],xticklabels=['MSE with \\nclean data', 'physics loss','sensor loss'])\n",
    "violin1 = ax.violinplot(loss_3,positions=[0.8,1.8,2.8],widths=0.2,)\n",
    "violin2 = ax.violinplot(loss_classic,positions=[1.2,2.2,3.2],widths=0.2)\n",
    "ax.grid(axis='y')\n",
    "\n",
    "labels = []\n",
    "color = violin1[\"bodies\"][0].get_facecolor().flatten()\n",
    "labels.append((matplotlib.patches.Patch(color=color), 'Loss 3'))\n",
    "color = violin2[\"bodies\"][0].get_facecolor().flatten()\n",
    "labels.append((matplotlib.patches.Patch(color=color), 'Classic'))\n",
    "\n",
    "plt.legend(*zip(*labels), loc=2)\n",
    "plt.show()"
   ]
  },
  {
   "cell_type": "markdown",
   "metadata": {},
   "source": []
  },
  {
   "cell_type": "markdown",
   "metadata": {},
   "source": [
    "# Verify results\n",
    "Verify that the 'good' ones are good and 'bad' ones are bad"
   ]
  },
  {
   "cell_type": "markdown",
   "metadata": {},
   "source": [
    "1. Compare robustness with respect to the range of hyperparameters"
   ]
  },
  {
   "cell_type": "code",
   "execution_count": null,
   "metadata": {},
   "outputs": [],
   "source": [
    "import jax\n",
    "import matplotlib.backends.backend_pdf\n",
    "# pdf = matplotlib.backends.backend_pdf.PdfPages(\"test.pdf\")"
   ]
  },
  {
   "cell_type": "code",
   "execution_count": null,
   "metadata": {},
   "outputs": [],
   "source": [
    "for i in range(30):\n",
    "    sweep_name = name_classic[i]\n",
    "    results_dir = Path(sweep_dir_classic,sweep_name)\n",
    "    with open(Path(temp_results_dir,'config.yml'),'r') as f:\n",
    "        cfg = yaml.load(f, Loader=yaml.UnsafeLoader)\n",
    "\n",
    "    ## normalise\n",
    "    if cfg.data_config.normalise:\n",
    "        [ux_train_normal,uy_train_normal,pp_train_normal], train_minmax = data_utils.normalise(ux_train,uy_train,pp_train)\n",
    "        [ux_val_normal,uy_val_normal,pp_val_normal], val_minmax = data_utils.normalise(ux_val,uy_val,pp_val)\n",
    "        [ux_test_normal,uy_test_normal,pp_test_normal], test_minmax = data_utils.normalise(ux_test,uy_test,pp_test)\n",
    "        ## take input\n",
    "        pb_train = simulation2d.take_measurement_base(pp_train_normal,ly=triangle_base_coords,centrex=0)\n",
    "        pb_val = simulation2d.take_measurement_base(pp_val_normal,ly=triangle_base_coords,centrex=0)\n",
    "        pb_test = simulation2d.take_measurement_base(pp_test_normal,ly=triangle_base_coords,centrex=0)\n",
    "    else:\n",
    "        ## take input\n",
    "        pb_train = simulation2d.take_measurement_base(pp_train,ly=triangle_base_coords,centrex=0)\n",
    "        pb_val = simulation2d.take_measurement_base(pp_val,ly=triangle_base_coords,centrex=0)\n",
    "        pb_test = simulation2d.take_measurement_base(pp_test,ly=triangle_base_coords,centrex=0)\n",
    "\n",
    "    pb_train = np.reshape(pb_train,(cfg.data_config.train_test_split[0],-1))\n",
    "    pb_val = np.reshape(pb_val,(cfg.data_config.train_test_split[1],-1))\n",
    "    pb_test = np.reshape(pb_test,(cfg.data_config.train_test_split[2],-1))\n",
    "\n",
    "    u_train = np.stack((ux_train,uy_train,pp_train),axis=-1)\n",
    "    u_val = np.stack((ux_val,uy_val,pp_val),axis=-1)\n",
    "    u_test = np.stack((ux_test,uy_test,pp_test),axis=-1)\n",
    "\n",
    "\n",
    "    state = state_utils.restore_trainingstate(results_dir,'state')\n",
    "    _, make_model = cfg.case.select_model(datacfg=cfg.data_config, mdlcfg=cfg.model_config, traincfg=cfg.train_config)\n",
    "    mdl = make_model(cfg.model_config)\n",
    "    rng = jax.random.PRNGKey(10)\n",
    "    pred_val = mdl.apply(state.params,rng,pb_val,TRAINING=False)\n",
    "    if cfg.data_config.normalise:\n",
    "        pred_val = data_utils.unnormalise_group(pred_val, train_minmax, axis_data=-1, axis_range=0)\n",
    "    \n",
    "\n",
    "    take_observation, _ = cfg.case.observe(cfg.data_config, example_pred_snapshot=u_val[0,...],example_pin_snapshot=pb_val[0,...])\n",
    "    \n",
    "    # l_s_val = losses.mse(take_observation(pred_val),take_observation(u_val))\n",
    "    # l_d_val = np.mean(derivatives.div_field(pred_val[...,:-1],datainfo)**2)\n",
    "    # l_m_val = np.mean(derivatives.momentum_residual_field(pred_val,datainfo)**2)\n",
    "    # l_mse_clean = losses.mse(pred_val,u_val) \n",
    "\n",
    "    fig,ax = plt.subplots(1,3,figsize=(8,3))\n",
    "    im1 = ax[0].imshow(pred_val[20,:,:,0],vmin=-0.6,vmax=1.8)\n",
    "    plt.colorbar(im1,ax=ax[0])\n",
    "    im2 = ax[1].imshow(pred_val[20,:,:,1],vmin=-1,vmax=1.5)\n",
    "    plt.colorbar(im2,ax=ax[1])\n",
    "    im3 = ax[2].imshow(pred_val[20,:,:,2],vmin=-1.5,vmax=0.25)\n",
    "    plt.colorbar(im3,ax=ax[2])\n",
    "    fig.suptitle(f'{sweep_name}:{l_mse_clean},mom:{l_m_val}')\n",
    "\n",
    "\n",
    "fig_nums = plt.get_fignums()  \n",
    "figs = [plt.figure(n) for n in fig_nums]\n",
    "for fig in figs: ## will open an empty extra figure :(\n",
    "    pdf.savefig(fig)\n",
    "pdf.close()"
   ]
  }
 ],
 "metadata": {
  "kernelspec": {
   "display_name": "fr",
   "language": "python",
   "name": "python3"
  },
  "language_info": {
   "codemirror_mode": {
    "name": "ipython",
    "version": 3
   },
   "file_extension": ".py",
   "mimetype": "text/x-python",
   "name": "python",
   "nbconvert_exporter": "python",
   "pygments_lexer": "ipython3",
   "version": "3.11.2"
  },
  "orig_nbformat": 4,
  "vscode": {
   "interpreter": {
    "hash": "d0c4f52e826ba972db993c88e86bb40a803fc6f9fbf0ce58ed5ef88c4855dac4"
   }
  }
 },
 "nbformat": 4,
 "nbformat_minor": 2
}
