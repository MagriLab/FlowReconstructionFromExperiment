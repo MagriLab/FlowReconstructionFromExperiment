{
 "cells": [
  {
   "cell_type": "code",
   "execution_count": null,
   "metadata": {},
   "outputs": [],
   "source": [
    "import sys\n",
    "sys.path.append('..')\n",
    "import h5py\n",
    "import yaml\n",
    "import numpy as np\n",
    "import matplotlib.pyplot as plt\n",
    "plt.style.use('../flowrec/utils/a4.mplsyle')\n",
    "\n",
    "from pathlib import Path\n",
    "from mpl_toolkits.axes_grid1 import ImageGrid\n",
    "\n",
    "from flowrec.utils import my_discrete_cmap"
   ]
  },
  {
   "cell_type": "code",
   "execution_count": null,
   "metadata": {},
   "outputs": [],
   "source": [
    "results_dir = Path('../local_results/2dkol/reduce_observations')"
   ]
  },
  {
   "cell_type": "code",
   "execution_count": null,
   "metadata": {},
   "outputs": [],
   "source": [
    "def is_experiment_input(name):\n",
    "    if 'min_input' in name:\n",
    "        return True\n",
    "    else:\n",
    "        return False\n",
    "def is_experiment_sensors(name):\n",
    "    if 'min_sensor' in name:\n",
    "        return True\n",
    "    else:\n",
    "        return False"
   ]
  },
  {
   "cell_type": "markdown",
   "metadata": {},
   "source": [
    "# Changing number of input"
   ]
  },
  {
   "cell_type": "code",
   "execution_count": 1,
   "metadata": {},
   "outputs": [
    {
     "data": {
      "text/plain": [
       "['input', '10', '200']"
      ]
     },
     "execution_count": 1,
     "metadata": {},
     "output_type": "execute_result"
    }
   ],
   "source": [
    "def get_results_inputs(folder):\n",
    "    d = Path(results_dir,folder)\n",
    "    with h5py.File(d,'summary.h5') as hf:\n",
    "        names = np.array(hf.get('runs_name')).astype('unicode')\n",
    "        l_train = np.array(hf.get('runs_loss_train'))\n",
    "        # l_val = np.array(hf.get('runs_loss_val'))\n",
    "\n",
    "    num_input = []\n",
    "    loss_total = []\n",
    "    loss_rel = []\n",
    "    for i in range(len(names)):\n",
    "        if is_experiment_input(names[i]):\n",
    "            name_split = names[i].split('-')\n",
    "            num_input.append(int(name_split[-2]))\n",
    "            loss_total = np.sum(l_train[i,1:])\n",
    "            loss_rel = l_train[i,0]\n",
    "    \n",
    "    return np.array(num_input), np.array(loss_total), np.array(loss_rel)\n"
   ]
  },
  {
   "cell_type": "code",
   "execution_count": null,
   "metadata": {},
   "outputs": [],
   "source": [
    "num_input_classic, loss_total_classic, loss_classic = get_results_inputs('classic')\n",
    "num_input_3, loss_total_3, loss_3 = get_results_inputs('3')\n",
    "num_input_mean3, loss_total_mean3, loss_mean3 = get_results_inputs('mean3')"
   ]
  },
  {
   "cell_type": "code",
   "execution_count": null,
   "metadata": {},
   "outputs": [],
   "source": [
    "# plot relative loss\n",
    "plt.figure(figsize=(5.5,3.5))\n",
    "ax = plt.subplot(111)\n",
    "\n",
    "ax.scatter(num_input_classic, loss_classic, label='$\\mathcal{L}^c$ training',marker='x', c=my_discrete_cmap(0))\n",
    "ax.scatter(num_input_3, loss_3, label='$\\mathcal{L}^s$ training',marker='x', c=my_discrete_cmap(2))\n",
    "ax.scatter(num_input_mean3, loss_mean3, label='$\\mathcal{L}^m$ training',marker='x', c=my_discrete_cmap(2))\n",
    "ax.legend()\n",
    "ax.set(ylabel='$\\epsilon (\\%)$', xlabel='Num inputs')\n",
    "plt.show()"
   ]
  },
  {
   "cell_type": "code",
   "execution_count": null,
   "metadata": {},
   "outputs": [],
   "source": [
    "# plot total loss (unweighted)\n",
    "plt.figure(figsize=(5.5,3.5))\n",
    "ax = plt.subplot(111)\n",
    "\n",
    "ax.scatter(num_input_classic, loss_total_classic, label='$\\mathcal{L}^c$ training',marker='x', c=my_discrete_cmap(0))\n",
    "ax.scatter(num_input_3, loss_total_3, label='$\\mathcal{L}^s$ training',marker='x', c=my_discrete_cmap(2))\n",
    "ax.scatter(num_input_mean3, loss_total_mean3, label='$\\mathcal{L}^m$ training',marker='x', c=my_discrete_cmap(2))\n",
    "ax.legend()\n",
    "ax.set(ylabel='$\\mathcal{L}_o + \\mathcal{L}_p$', xlabel='Num inputs')\n",
    "plt.show()"
   ]
  }
 ],
 "metadata": {
  "kernelspec": {
   "display_name": "fr",
   "language": "python",
   "name": "python3"
  },
  "language_info": {
   "codemirror_mode": {
    "name": "ipython",
    "version": 3
   },
   "file_extension": ".py",
   "mimetype": "text/x-python",
   "name": "python",
   "nbconvert_exporter": "python",
   "pygments_lexer": "ipython3",
   "version": "3.11.2"
  }
 },
 "nbformat": 4,
 "nbformat_minor": 2
}
